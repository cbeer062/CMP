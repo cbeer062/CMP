{
 "cells": [
  {
   "cell_type": "code",
   "execution_count": null,
   "metadata": {
    "collapsed": true
   },
   "outputs": [],
   "source": [
    "import pandas as pd\n",
    "import numpy as np\n",
    "import os\n",
    "\n",
    "from datetime import datetime"
   ]
  },
  {
   "cell_type": "code",
   "execution_count": null,
   "metadata": {},
   "outputs": [],
   "source": [
    "filename = '//usoil.local/Production/USV/Apps/PowerBI/US AutoForce/Sales Reports/CMP/Current_G3x_con.csv'\n",
    "df = pd.read_csv(filename, sep = ',')\n",
    "df.columns = df.columns.str.replace(' ', '_')\n",
    "df.columns = df.columns.str.replace('#', 'num')\n",
    "\n",
    "filename2 = '//usoil.local/Production/USV/Apps/PowerBI/US AutoForce/Sales Reports/CMP/Incentive Requirments/GDY_CON_Incentive.txt'\n",
    "df_tierMap = pd.read_csv(filename2, sep = '\\t')\n",
    "df.shape"
   ]
  },
  {
   "cell_type": "code",
   "execution_count": null,
   "metadata": {
    "collapsed": true,
    "scrolled": false
   },
   "outputs": [],
   "source": [
    "# df_tierMap"
   ]
  },
  {
   "cell_type": "code",
   "execution_count": null,
   "metadata": {
    "collapsed": true
   },
   "outputs": [],
   "source": [
    "# df.columns"
   ]
  },
  {
   "cell_type": "code",
   "execution_count": null,
   "metadata": {
    "collapsed": true
   },
   "outputs": [],
   "source": [
    "# Logic to check if qualify for EOY incentive (1st 3 quarters)\n",
    "filenameEOQ = '//usoil.local/Production/USV/Apps/PowerBI/US AutoForce/Sales Reports/CMP/EOQ'\n",
    "fileList = os.listdir(filenameEOQ)\n",
    "df_files = pd.Series(fileList)\n",
    "\n",
    "tfQ1 = df_files.str.contains('Q1.txt', regex=False)\n",
    "tfQ2 = df_files.str.contains('Q2.txt', regex=False)\n",
    "tfQ3 = df_files.str.contains('Q3.txt', regex=False)\n",
    "tfQ4 = df_files.str.contains('Q4.txt', regex=False)\n",
    "\n",
    "Q1_file = df_files[tfQ1].reset_index(drop=True)\n",
    "if not Q1_file.empty:\n",
    "    foo = (filenameEOQ + '/' + Q1_file[0])\n",
    "    q1 = pd.read_csv(foo, sep = '\\t')\n",
    "    q1_select = q1.iloc[:,[13,14,16,17,18]]\n",
    "Q2_file = df_files[tfQ2].reset_index(drop=True)\n",
    "if not Q2_file.empty:\n",
    "    foo = (filenameEOQ + '/' + Q2_file[0])\n",
    "    q2 = pd.read_csv(foo, sep = '\\t')\n",
    "    q2_select = q2.iloc[:,[13,14,16,17,18]]\n",
    "Q3_file = df_files[tfQ3].reset_index(drop=True)\n",
    "if not Q3_file.empty:\n",
    "    foo = (filenameEOQ + '/' + Q3_file[0])\n",
    "    q3 = pd.read_csv(foo, sep = '\\t')\n",
    "    q3_select = q1.iloc[:,[13,14,16,17,18]]\n",
    "Q4_file = df_files[tfQ4].reset_index(drop=True)\n",
    "if not Q4_file.empty:\n",
    "    foo = (filenameEOQ + '/' + Q4_file[0])\n",
    "    q4 = pd.read_csv(foo, sep = '\\t')\n",
    "    q4_select = q4.iloc[:,[13,14,16,17,18]]"
   ]
  },
  {
   "cell_type": "code",
   "execution_count": null,
   "metadata": {},
   "outputs": [],
   "source": [
    "Q1_file.empty+Q1_file.empty+Q1_file.empty+Q1_file.empty"
   ]
  },
  {
   "cell_type": "code",
   "execution_count": null,
   "metadata": {},
   "outputs": [],
   "source": [
    "Q1_file.empty + Q2_file.empty + Q3_file.empty + Q4_file.empty "
   ]
  },
  {
   "cell_type": "code",
   "execution_count": null,
   "metadata": {
    "collapsed": true
   },
   "outputs": [],
   "source": [
    "currentYear = datetime.now().year"
   ]
  },
  {
   "cell_type": "code",
   "execution_count": null,
   "metadata": {
    "collapsed": true
   },
   "outputs": [],
   "source": [
    "tup_now = datetime.now().timetuple()"
   ]
  },
  {
   "cell_type": "code",
   "execution_count": null,
   "metadata": {
    "collapsed": true
   },
   "outputs": [],
   "source": [
    "ts_currentData = os.path.getctime(filename)\n",
    "dt_currentData = datetime.fromtimestamp(ts_currentData)\n",
    "# print(dt_currentData)\n",
    "ts_incentive = os.path.getctime(filename2)\n",
    "dt_incentive = datetime.fromtimestamp(ts_incentive)\n",
    "# print(dt_incentive)"
   ]
  },
  {
   "cell_type": "code",
   "execution_count": null,
   "metadata": {
    "scrolled": true
   },
   "outputs": [],
   "source": [
    "calculatedData = pd.DataFrame([])\n",
    "for ii in range(df.shape[0]):\n",
    "\n",
    "    singleCusty = df.iloc[[ii]]\n",
    "    singleCusty.reset_index(inplace=True)\n",
    "    # singleCusty\n",
    "\n",
    "    singleCusty['QTDsum'] = singleCusty.Goodyear_Core_Net_Purchases_QTD + singleCusty.Kelly_Net_Purchases_QTD + singleCusty.Other_Net_Purchases_QTD\n",
    "    singleCusty_select = singleCusty[\n",
    "        ['G3X_CO_Name','num_Locations','Goodyear_Core_Net_Purchases_QTD','Kelly_Net_Purchases_QTD','Other_Net_Purchases_QTD','QTDsum']]\n",
    "    singleCusty_select = singleCusty_select.rename(index=str, columns={\n",
    "        'G3X_CO_Name':'Name','num_Locations':'numLocs','Goodyear_Core_Net_Purchases_QTD':'goodyearQTD','Kelly_Net_Purchases_QTD':'kellyQTD','Other_Net_Purchases_QTD':'dunlopQTD'})\n",
    "    excel_date = singleCusty.Last_Transaction\n",
    "    # excel_date\n",
    "\n",
    "    date_lt = datetime.fromordinal(datetime(1900, 1, 1).toordinal() + excel_date - 2)\n",
    "    tt = date_lt.timetuple()\n",
    "        \n",
    "    if  tt.tm_year == currentYear:\n",
    "\n",
    "        if (tt.tm_mon == 1) | (tt.tm_mon == 2) | (tt.tm_mon == 3):\n",
    "            if ((tt.tm_year % 400 == 0) | (tt.tm_year % 4 == 0)) & (tt.tm_year % 100 != 0):\n",
    "                quarter = 1\n",
    "                daysINqtr = 91\n",
    "                print('Leap year')\n",
    "            else:\n",
    "                quarter = 1\n",
    "                daysINqtr = 90           \n",
    "        elif (tt.tm_mon == 4) | (tt.tm_mon == 5) | (tt.tm_mon == 6):\n",
    "            quarter = 2\n",
    "            daysINqtr = 91\n",
    "            print(quarter)\n",
    "            break # for testing            \n",
    "        elif (tt.tm_mon == 7) | (tt.tm_mon == 8) | (tt.tm_mon == 9):\n",
    "            quarter = 3\n",
    "            daysINqtr = 92\n",
    "            print(quarter)\n",
    "            break # for testing\n",
    "        else:\n",
    "            quarter = 4\n",
    "            daysINqtr = 92\n",
    "            print(quarter)\n",
    "            break # for testing\n",
    "        \n",
    "        numDays = tt.tm_yday # get number of days\n",
    "\n",
    "        estimatedTires = np.floor((singleCusty.QTDsum/(numDays/daysINqtr))).values\n",
    "        numLocations = singleCusty.num_Locations.values\n",
    "\n",
    "#         if   (estimatedTires >= (df_tierMap.iloc[1,4] * numLocations)) & (estimatedTires <= (df_tierMap.iloc[1,5] * numLocations)):\n",
    "#             tierType = 1\n",
    "#         elif (estimatedTires >= (df_tierMap.iloc[2,4] * numLocations)) & (estimatedTires <= (df_tierMap.iloc[2,5] * numLocations)):\n",
    "#             tierType = 2\n",
    "#         elif (estimatedTires >= (df_tierMap.iloc[3,4] * numLocations)) & (estimatedTires <= (df_tierMap.iloc[3,5] * numLocations)):\n",
    "#             tierType = 3\n",
    "#         elif (estimatedTires >= (df_tierMap.iloc[4,4] * numLocations)):\n",
    "#             tierType = 4\n",
    "#         else:\n",
    "#             tierType = 0\n",
    "        \n",
    "#         if tierType < 4:\n",
    "#             tierUP = tierType + 1\n",
    "#         else:\n",
    "#             tierUP = 4\n",
    "        \n",
    "        if   (estimatedTires >= (df_tierMap.iloc[1,4] )) & (estimatedTires <= (df_tierMap.iloc[1,5])):\n",
    "            tierType = 1\n",
    "        elif (estimatedTires >= (df_tierMap.iloc[2,4] )) & (estimatedTires <= (df_tierMap.iloc[2,5])):\n",
    "            tierType = 2\n",
    "        elif (estimatedTires >= (df_tierMap.iloc[3,4] )) & (estimatedTires <= (df_tierMap.iloc[3,5])):\n",
    "            tierType = 3\n",
    "        elif (estimatedTires >= (df_tierMap.iloc[4,4])):\n",
    "            tierType = 4\n",
    "        else:\n",
    "            tierType = 0\n",
    "        \n",
    "        if tierType < 4:\n",
    "            tierUP = tierType + 1\n",
    "        else:\n",
    "            tierUP = 4\n",
    "        \n",
    "        # floor to underestimate estimated tires\n",
    "        goodYR_est_tires = np.floor((singleCusty.Goodyear_Core_Net_Purchases_QTD/(numDays/daysINqtr)).values)\n",
    "        goodYR_est_tires_rebate = goodYR_est_tires * df_tierMap.iloc[tierType,1]\n",
    "        goodYR_prop = singleCusty_select.goodyearQTD/singleCusty_select.QTDsum\n",
    "        # ceil to make sure the customer surpasses the minimal 1up tire threshold\n",
    "        goodYR_1up_tires = np.ceil((goodYR_prop*df_tierMap.iloc[tierUP,4]*numLocations).values)\n",
    "        goodYR_1up_tires_rebate = goodYR_1up_tires * df_tierMap.iloc[tierUP,1]\n",
    "        \n",
    "        kelly_est_tires = np.floor((singleCusty.Kelly_Net_Purchases_QTD/(numDays/daysINqtr)).values)\n",
    "        kelly_est_tires_rebate = kelly_est_tires * df_tierMap.iloc[tierType,2]\n",
    "        kelly_prop = singleCusty_select.kellyQTD/singleCusty_select.QTDsum\n",
    "        kelly_1up_tires = np.ceil((kelly_prop*df_tierMap.iloc[tierUP,4]*numLocations).values)\n",
    "        kelly_1up_tires_rebate = kelly_1up_tires * df_tierMap.iloc[tierUP,2]\n",
    "        \n",
    "        dunlop_est_tires = np.floor((singleCusty.Other_Net_Purchases_QTD/(numDays/daysINqtr)).values)\n",
    "        dunlop_est_tires_rebate = dunlop_est_tires * df_tierMap.iloc[tierType,3]\n",
    "        dunlop_prop = singleCusty_select.dunlopQTD/singleCusty_select.QTDsum\n",
    "        dunlop_1up_tires = np.ceil((dunlop_prop*df_tierMap.iloc[tierUP,4]*numLocations).values)\n",
    "        dunlop_1up_tires_rebate = dunlop_1up_tires * df_tierMap.iloc[tierUP,3]\n",
    "        \n",
    "        total_est_tires = goodYR_est_tires + kelly_est_tires + dunlop_est_tires\n",
    "        total_est_dollars = goodYR_est_tires_rebate+kelly_est_tires_rebate+dunlop_est_tires_rebate\n",
    "        total_1up_dollars = goodYR_1up_tires_rebate+kelly_1up_tires_rebate+dunlop_1up_tires_rebate\n",
    "        total_1up_tires = goodYR_1up_tires+kelly_1up_tires+dunlop_1up_tires\n",
    "        \n",
    "        if estimatedTires > total_1up_tires:\n",
    "            goodYR_1up_tires = goodYR_est_tires\n",
    "            kelly_1up_tires = kelly_est_tires\n",
    "            dunlop_1up_tires = dunlop_est_tires\n",
    "            total_1up_tires = estimatedTires\n",
    "            \n",
    "            goodYR_1up_tires_rebate = goodYR_est_tires_rebate\n",
    "            kelly_1up_tires_rebate = kelly_est_tires_rebate\n",
    "            dunlop_1up_tires_rebate = dunlop_est_tires_rebate\n",
    "            total_1up_dollars = total_est_dollars\n",
    "        \n",
    "#         range_tires = abs(singleCusty_select.QTDsum-df_tierMap.iloc[tierUP,4])\n",
    "#         added_est_dollars = ((goodYR_est_tires*df_tierMap.iloc[tierUP,1])+(\n",
    "#             kelly_est_tires*df_tierMap.iloc[tierUP,2])+(\n",
    "#             dunlop_est_tires*df_tierMap.iloc[tierUP,3]))\n",
    "\n",
    "        range_dollars_ll = ((total_1up_tires*df_tierMap.iloc[tierUP,3]))#.values\n",
    "        range_dollars_ul = ((total_1up_tires*df_tierMap.iloc[tierUP,1]))#.values\n",
    "        \n",
    "###########################################################################################################################        \n",
    "#         print(singleCusty_select)\n",
    "# ###########################################################################################################################     \n",
    "#         print('\\nEstimated Tier:', [tierType])\n",
    "        \n",
    "#         print('\\nEstimated Tires ~ Goodyear:', goodYR_est_tires)\n",
    "#         print('Estimated Tires ~ Kelly:', kelly_est_tires)        \n",
    "#         print('Estimated Tires ~ Dunlop:', dunlop_est_tires)\n",
    "#         print('-------------------------------------')\n",
    "#         print('Estimated Tires ~ Total:',estimatedTires)\n",
    "        \n",
    "#         print('\\nEstimated Dollars ~ Goodyear:',goodYR_est_tires_rebate)\n",
    "#         print('Estimated Dollars ~ Kelly:',kelly_est_tires_rebate)\n",
    "#         print('Estimated Dollars ~ Dunlop:',dunlop_est_tires_rebate)\n",
    "#         print('-------------------------------------')\n",
    "#         print('Estimated Dollars ~ Total:',total_est_dollars)\n",
    "#         print('\\n-----------------------------------------------------------------------------------------------------------------------\\n')\n",
    "# ###########################################################################################################################\n",
    "#         print('Estimated 1up Tier:', [tierUP])\n",
    "        \n",
    "#         print('\\n1up Tires ~ Goodyear:', goodYR_1up_tires)\n",
    "#         print('1up Tires ~ Kelly:', kelly_1up_tires)        \n",
    "#         print('1up Tires ~ Dunlop:', dunlop_1up_tires)\n",
    "#         print('-------------------------------------')\n",
    "#         print('Estimated 1up Tires ~ Total:',total_1up_tires)\n",
    "        \n",
    "#         print('\\n1up Dollars ~ Goodyear:',goodYR_1up_tires_rebate)\n",
    "#         print('1up Dollars ~ Kelly:',kelly_1up_tires_rebate)\n",
    "#         print('1up Dollars ~ Dunlop:',dunlop_1up_tires_rebate)\n",
    "#         print('-------------------------------------')\n",
    "#         print('1up Dollars ~ Total:',total_1up_dollars)\n",
    "#         print('\\n-----------------------------------------------------------------------------------------------------------------------\\n')\n",
    "# ###########################################################################################################################        \n",
    "#         print('Range_ll:',range_dollars_ll)\n",
    "#         print('Range_ul:',range_dollars_ul, '\\n')\n",
    "# ###########################################################################################################################\n",
    "#         print(tt, '\\n' 'indexNumber:', ii, '\\n')\n",
    "###########################################################################################################################\n",
    "##### ADD QUARTER AND GRAIN TO EACH PROGRAM\n",
    "        tempData = pd.DataFrame(\n",
    "            {'Est_tier':tierType,\n",
    "             'GY_est_tires':goodYR_est_tires, 'Kelly_est_tires':kelly_est_tires, 'Dunlop_est_tires':dunlop_est_tires, 'total_est_tires':total_est_tires*numLocations,\n",
    "             'GY_est_rebate':goodYR_est_tires_rebate, 'Kelly_est_rebate':kelly_est_tires_rebate, 'Dunlop_est_rebate':dunlop_est_tires_rebate,\n",
    "             'total_est_rebate': total_est_dollars,'Up_tier':tierUP,\n",
    "             'GY_up_tires':goodYR_1up_tires, 'Kelly_up_tires':kelly_1up_tires, 'Dunlop_up_tires':dunlop_1up_tires, 'total_up_tires':total_1up_tires,\n",
    "             'GY_up_rebate':goodYR_1up_tires_rebate, 'Kelly_up_rebate':kelly_1up_tires_rebate, 'Dunlop_up_rebate':dunlop_1up_tires_rebate,\n",
    "             'total_up_rebate':total_1up_dollars,\n",
    "             'Range_lower':range_dollars_ll, 'Range_upper':range_dollars_ul,'Period': quarter, 'Grain': 'Quarter'})\n",
    "        calculatedData = calculatedData.append(tempData)\n",
    "    else:\n",
    "#         print('\\nJUNK:', tt,'\\n', 'indexNumber:', ii)\n",
    "        range_dollars_ll = (df_tierMap.iloc[1,3] * df_tierMap.iloc[1,4])\n",
    "        range_dollars_ul = (df_tierMap.iloc[1,1] * df_tierMap.iloc[1,4]) \n",
    "        tempData = pd.DataFrame(\n",
    "            {'Est_tier':0, 'Period': quarter, 'Grain': 'Quarter',\n",
    "             'GY_est_tires':0, 'Kelly_est_tires':0, 'Dunlop_est_tires':0, 'total_est_tires':0, \n",
    "             'GY_est_rebate':0, 'Kelly_est_rebate':0, 'Dunlop_est_rebate':0,\n",
    "             'total_est_rebate': 0, 'Up_tier':1,\n",
    "             'GY_up_tires':0, 'Kelly_up_tires':0, 'Dunlop_up_tires':0, 'total_up_tires':0,\n",
    "             'GY_up_rebate':0, 'Kelly_up_rebate':0, 'Dunlop_up_rebate':0,\n",
    "             'total_up_rebate':0,\n",
    "             'Range_lower':[range_dollars_ll], 'Range_upper':[range_dollars_ul],'Period': quarter, 'Grain': 'Quarter'})\n",
    "        calculatedData = calculatedData.append(tempData)\n",
    "###########################################################################################################################        \n",
    "calculatedData = calculatedData.reset_index(drop=True)\n",
    "finalData = pd.concat([calculatedData,df], axis=1)"
   ]
  },
  {
   "cell_type": "code",
   "execution_count": null,
   "metadata": {
    "collapsed": true
   },
   "outputs": [],
   "source": [
    "finalData = finalData.replace([np.inf, -np.inf], np.nan).fillna(0)"
   ]
  },
  {
   "cell_type": "code",
   "execution_count": null,
   "metadata": {
    "collapsed": true
   },
   "outputs": [],
   "source": [
    "path = '//usoil.local/Production/USV/Apps/PowerBI/US AutoForce/Sales Reports/CMP/python_csv_output/'\n",
    "writeFilename = path + 'CMP_G3X_CON_delete.csv'\n",
    "finalData.to_csv(writeFilename, index=False)\n",
    "writeFilename_archive = path + 'csv_archive/' + str(tup_now.tm_year) + '_' + str(tup_now.tm_mon).zfill(2) \\\n",
    "                        + '_' + str(tup_now.tm_mday).zfill(2) + '_' + 'CMP_G3X_CON_delete_' \\\n",
    "                        + str(tup_now.tm_hour).zfill(2) + str(tup_now.tm_min).zfill(2) + str(tup_now.tm_sec).zfill(2) \\\n",
    "                        + '.csv'\n",
    "finalData.to_csv(writeFilename_archive, index=False)"
   ]
  },
  {
   "cell_type": "code",
   "execution_count": null,
   "metadata": {
    "collapsed": true
   },
   "outputs": [],
   "source": []
  },
  {
   "cell_type": "code",
   "execution_count": null,
   "metadata": {
    "collapsed": true
   },
   "outputs": [],
   "source": []
  },
  {
   "cell_type": "code",
   "execution_count": null,
   "metadata": {
    "collapsed": true
   },
   "outputs": [],
   "source": [
    "# path = '//usoil.local/Production/USV/Apps/PowerBI/US AutoForce/Sales Reports/CMP/python_csv_output/'\n",
    "# writeFilename = path + 'cmp_G3X.csv'\n",
    "# finalData.to_csv(writeFilename, index=False)\n",
    "# writeFilename_archive = path + 'csv_archive/' + str(dt_currentData.year) + '_' + str(dt_currentData.month) + '_' + str(dt_currentData.day) + '_' + 'CMP_G3X.csv'\n",
    "# finalData.to_csv(writeFilename_archive, index=False)"
   ]
  }
 ],
 "metadata": {
  "kernelspec": {
   "display_name": "Python 3",
   "language": "python",
   "name": "python3"
  },
  "language_info": {
   "codemirror_mode": {
    "name": "ipython",
    "version": 3
   },
   "file_extension": ".py",
   "mimetype": "text/x-python",
   "name": "python",
   "nbconvert_exporter": "python",
   "pygments_lexer": "ipython3",
   "version": "3.5.5"
  }
 },
 "nbformat": 4,
 "nbformat_minor": 2
}
