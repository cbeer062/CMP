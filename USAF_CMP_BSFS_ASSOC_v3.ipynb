{
 "cells": [
  {
   "cell_type": "code",
   "execution_count": null,
   "metadata": {
    "collapsed": true
   },
   "outputs": [],
   "source": [
    "import pandas as pd\n",
    "import numpy as np\n",
    "import os\n",
    "\n",
    "from datetime import datetime, timedelta"
   ]
  },
  {
   "cell_type": "code",
   "execution_count": null,
   "metadata": {},
   "outputs": [],
   "source": [
    "filename = '//usoil.local/Production/USV/Apps/PowerBI/US AutoForce/Sales Reports/CMP/Current_BSFS_Assoc.csv'\n",
    "df = pd.read_csv(filename, sep = ',')\n",
    "df.columns = df.columns.str.replace(' ', '_')\n",
    "df.columns = df.columns.str.replace('-', '_')\n",
    "df.columns = df.columns.str.replace('#', 'num')\n",
    "\n",
    "filename2 = '//usoil.local/Production/USV/Apps/PowerBI/US AutoForce/Sales Reports/CMP/Incentive Requirments/BSFS_ASSOC_Incentive.txt '\n",
    "df_tierMap = pd.read_csv(filename2, sep = '\\t')\n",
    "df_tierMap.columns = df_tierMap.columns.str.replace(' ', '_')\n",
    "\n",
    "df.shape"
   ]
  },
  {
   "cell_type": "code",
   "execution_count": null,
   "metadata": {
    "collapsed": true,
    "scrolled": true
   },
   "outputs": [],
   "source": [
    "# df_select.head()"
   ]
  },
  {
   "cell_type": "code",
   "execution_count": null,
   "metadata": {},
   "outputs": [],
   "source": [
    "df_select = df.iloc[:,range(9)]\n",
    "df_select = df_select.assign(QTDsum=0,CurrentTier=0,CreateDate=0)\n",
    "\n",
    "df_select['QTDsum'] = df_select.Q1_MB\n",
    "df_select.loc[df_select['QTDsum'] < df_tierMap.iloc[1,4], 'CurrentTier'] = 0\n",
    "df_select.loc[df_select['QTDsum'] >= df_tierMap.iloc[1,4], 'CurrentTier'] = 1\n",
    "\n",
    "df_select.head(2)"
   ]
  },
  {
   "cell_type": "code",
   "execution_count": null,
   "metadata": {
    "collapsed": true
   },
   "outputs": [],
   "source": [
    "# df_tierMap.columns.to_series(index=range(df_tierMap.shape[1]))"
   ]
  },
  {
   "cell_type": "code",
   "execution_count": null,
   "metadata": {
    "collapsed": true
   },
   "outputs": [],
   "source": [
    "currentYear = datetime.now().year"
   ]
  },
  {
   "cell_type": "code",
   "execution_count": null,
   "metadata": {
    "collapsed": true
   },
   "outputs": [],
   "source": [
    "tup_now = datetime.now().timetuple()"
   ]
  },
  {
   "cell_type": "code",
   "execution_count": null,
   "metadata": {},
   "outputs": [],
   "source": [
    "ts_currentData = os.path.getctime(filename)\n",
    "dt_currentData = datetime.fromtimestamp(ts_currentData) - timedelta(days=31) # USED FOR TESTING-POC *** THIS SHOULD BE CHANGED\n",
    "tup_currentData = dt_currentData.timetuple()\n",
    "print(tup_currentData)\n",
    "df_select['CreateDate'] = str(tup_currentData.tm_year) + '-' + str(tup_currentData.tm_mon) + '-' + str(tup_currentData.tm_mday)\n",
    "\n",
    "ts_incentive = os.path.getctime(filename2)\n",
    "dt_incentive = datetime.fromtimestamp(ts_incentive)\n",
    "# print(dt_currentData)"
   ]
  },
  {
   "cell_type": "code",
   "execution_count": null,
   "metadata": {},
   "outputs": [],
   "source": [
    "calculatedData = pd.DataFrame([])\n",
    "for ii in range(df.shape[0]):\n",
    "\n",
    "    singleCusty = df_select.iloc[[ii]]\n",
    "    singleCusty.reset_index(inplace=True)\n",
    "\n",
    "    singleCusty_select = singleCusty[\n",
    "        ['Dealer_Name','Q1_TOTAL_NET','Q1_BS','Q1_FS','Q1_FZ','QTDsum','Q1_MB']]\n",
    "        \n",
    "    if  tup_currentData.tm_year == currentYear:\n",
    "\n",
    "        if (tup_currentData.tm_mon == 1) | (tup_currentData.tm_mon == 2) | (tup_currentData.tm_mon == 3):\n",
    "            if ((tup_currentData.tm_year % 400 == 0) | (tup_currentData.tm_year % 4 == 0)) & (tup_currentData.tm_year % 100 != 0):\n",
    "                quarter = 1\n",
    "                daysINqtr = 91\n",
    "                runningDays = 91\n",
    "                print('Leap year')\n",
    "            else:\n",
    "                quarter = 1\n",
    "                daysINqtr = 90\n",
    "                runningDays = 90\n",
    "        elif (tup_currentData.tm_mon == 4) | (tup_currentData.tm_mon == 5) | (tup_currentData.tm_mon == 6):\n",
    "            quarter = 2\n",
    "            daysINqtr = 91\n",
    "        elif (tup_currentData.tm_mon == 7) | (tup_currentData.tm_mon == 8) | (tup_currentData.tm_mon == 9):\n",
    "            quarter = 3\n",
    "            daysINqtr = 92\n",
    "            runningDays = 90 + 91\n",
    "        else:\n",
    "            quarter = 4\n",
    "            daysINqtr = 92\n",
    "            runningDays = 90 + 91 + 92   \n",
    "        \n",
    "        if quarter in [2,3,4]:\n",
    "            numDays = tup_currentData.tm_yday - runningDays # get number of days\n",
    "        else:\n",
    "            numDays = tup_currentData.tm_yday # get number of days\n",
    "\n",
    "        estimatedTires = np.floor(singleCusty_select.QTDsum/(numDays/daysINqtr)).values\n",
    "\n",
    "        if   (estimatedTires >= (df_tierMap.iloc[1,4])):\n",
    "            estTier = 1\n",
    "        else:\n",
    "            estTier = 0\n",
    "        if estTier < 1:\n",
    "            tierUP = estTier + 1\n",
    "        else:\n",
    "            tierUP = 1\n",
    "\n",
    "        if singleCusty.CurrentTier.values == 1:\n",
    "            currentBSdollars = df_tierMap.iloc[1,1] * singleCusty_select.Q1_BS\n",
    "            currentFSdollars = df_tierMap.iloc[1,2] * singleCusty_select.Q1_FS\n",
    "            currentFZdollars = df_tierMap.iloc[1,3] * singleCusty_select.Q1_FZ\n",
    "        else:\n",
    "            currentBSdollars = 0\n",
    "            currentFSdollars = 0\n",
    "            currentFZdollars = 0\n",
    "        Q1_current_rebate = currentBSdollars + currentFSdollars + currentFZdollars\n",
    "        \n",
    "        # floor to underestimate estimated tires\n",
    "        bridgeStone_est_tires = np.floor((singleCusty_select.Q1_BS / (numDays / daysINqtr)).values)\n",
    "        bridgeStone_est_tires_rebate = bridgeStone_est_tires * df_tierMap.iloc[estTier,1]\n",
    "        bridgeStone_prop = singleCusty_select.Q1_BS /  singleCusty_select.Q1_TOTAL_NET\n",
    "        # ceil to make sure the customer surpasses the minimal 1up tire threshold\n",
    "        bridgeStone_1up_tires = np.ceil((bridgeStone_prop * df_tierMap.iloc[tierUP,4]).values)\n",
    "        bridgeStone_1up_tires_rebate = bridgeStone_1up_tires * df_tierMap.iloc[tierUP,1]\n",
    "   \n",
    "        fireStone_est_tires = np.floor((singleCusty_select.Q1_FS / (numDays / daysINqtr)).values)\n",
    "        fireStone_est_tires_rebate = fireStone_est_tires * df_tierMap.iloc[estTier,2]\n",
    "        fireStone_prop = singleCusty_select.Q1_FS /  singleCusty_select.Q1_TOTAL_NET\n",
    "        fireStone_1up_tires = np.ceil((fireStone_prop * df_tierMap.iloc[tierUP,4]).values)\n",
    "        fireStone_1up_tires_rebate = fireStone_1up_tires * df_tierMap.iloc[tierUP,2]\n",
    "        \n",
    "        fuzion_est_tires = np.floor((singleCusty_select.Q1_FZ / (numDays / daysINqtr)).values)\n",
    "        fuzion_est_tires_rebate = fuzion_est_tires * df_tierMap.iloc[estTier,3]\n",
    "        fuzion_prop = singleCusty_select.Q1_FZ /  singleCusty_select.Q1_TOTAL_NET\n",
    "        fuzion_1up_tires = np.ceil((fuzion_prop * df_tierMap.iloc[tierUP,4]).values)\n",
    "        fuzion_1up_tires_rebate = fuzion_1up_tires * df_tierMap.iloc[tierUP,3]\n",
    "     \n",
    "        total_est_dollars = bridgeStone_est_tires_rebate + fireStone_est_tires_rebate + fuzion_est_tires_rebate\n",
    "        total_1up_dollars = bridgeStone_1up_tires_rebate + fireStone_1up_tires_rebate + fuzion_1up_tires_rebate\n",
    "        total_1up_tires = bridgeStone_1up_tires + fireStone_1up_tires\n",
    "        MB_est_tires = bridgeStone_est_tires + fireStone_est_tires\n",
    "\n",
    "        Q1_MB_total = singleCusty_select.Q1_MB\n",
    "        \n",
    "        if estimatedTires > total_1up_tires:\n",
    "            bridgeStone_1up_tires = bridgeStone_est_tires\n",
    "            fireStone_1up_tires = fireStone_est_tires\n",
    "            fuzion_1up_tires = fuzion_est_tires\n",
    "            total_1up_tires = estimatedTires\n",
    "            \n",
    "            bridgeStone_1up_tires_rebate = bridgeStone_est_tires_rebate\n",
    "            fireStone_1up_tires_rebate = fireStone_est_tires_rebate\n",
    "            fuzion_1up_tires_rebate = fuzion_est_tires_rebate\n",
    "            total_1up_dollars = total_est_dollars\n",
    "\n",
    "        range_dollars_ll = ((total_1up_tires * df_tierMap.iloc[tierUP,2]))#.values\n",
    "        range_dollars_ul = ((total_1up_tires * df_tierMap.iloc[tierUP,1]))#.values\n",
    "        \n",
    "###########################################################################################################################        \n",
    "#         print(singleCusty)\n",
    "# ###########################################################################################################################     \n",
    "#         print('\\nEstimated Tier:', [estTier])\n",
    "        \n",
    "#         print('\\nEstimated Tires ~ bridgeStone:', bridgeStone_est_tires)\n",
    "#         print('Estimated Tires ~ fireStone:', fireStone_est_tires)        \n",
    "#         print('Estimated Tires ~ fuzion:', fuzion_est_tires)\n",
    "#         print('-------------------------------------')\n",
    "#         print('Estimated Tires ~ Total:',estimatedTires)\n",
    "        \n",
    "#         print('\\nEstimated Dollars ~ bridgeStone:',bridgeStone_est_tires_rebate)\n",
    "#         print('Estimated Dollars ~ fireStone:',fireStone_est_tires_rebate)\n",
    "#         print('Estimated Dollars ~ fuzion:',fuzion_est_tires_rebate)\n",
    "#         print('-------------------------------------')\n",
    "#         print('Estimated Dollars ~ Total:',total_est_dollars)\n",
    "#         print('\\n-----------------------------------------------------------------------------------------------------------------------\\n')\n",
    "# ###########################################################################################################################\n",
    "#         print('Estimated 1up Tier:', [tierUP])\n",
    "        \n",
    "#         print('\\n1up Tires ~ bridgeStone:', bridgeStone_1up_tires)\n",
    "#         print('1up Tires ~ fireStone:', fireStone_1up_tires)        \n",
    "#         print('1up Tires ~ fuzion:', fuzion_1up_tires)\n",
    "#         print('-------------------------------------')\n",
    "#         print('Estimated 1up Tires ~ Total:',total_1up_tires)\n",
    "        \n",
    "#         print('\\n1up Dollars ~ bridgeStone:',bridgeStone_1up_tires_rebate)\n",
    "#         print('1up Dollars ~ fireStone:',fireStone_1up_tires_rebate)\n",
    "#         print('1up Dollars ~ fuzion:',fuzion_1up_tires_rebate)\n",
    "#         print('-------------------------------------')\n",
    "#         print('1up Dollars ~ Total:',total_1up_dollars)\n",
    "#         print('\\n-----------------------------------------------------------------------------------------------------------------------\\n')\n",
    "# ###########################################################################################################################        \n",
    "#         print('Range_ll:',range_dollars_ll)\n",
    "#         print('Range_ul:',range_dollars_ul, '\\n')\n",
    "# ###########################################################################################################################\n",
    "#         print(tup_currentData, '\\n' 'indexNumber:', ii, '\\n')\n",
    "###########################################################################################################################\n",
    "        tempData = pd.DataFrame(\n",
    "            {'Est_tier':estTier, 'currentBSdollars':currentBSdollars, 'currentFSdollars':currentFSdollars, 'currentFZdollars':currentFZdollars, 'Q1_MB_total':Q1_MB_total, 'Q1_current_rebate':Q1_current_rebate,\n",
    "             'bridgeStone_est_tires':bridgeStone_est_tires, 'fireStone_est_tires':fireStone_est_tires, 'fuzion_est_tires':fuzion_est_tires, 'MB_est_tires':MB_est_tires,\n",
    "             'bridgeStone_est_rebate':bridgeStone_est_tires_rebate, 'fireStone_est_rebate':fireStone_est_tires_rebate, 'fuzion_est_rebate':fuzion_est_tires_rebate, 'total_est_rebate':total_est_dollars,\n",
    "             'Up_tier':tierUP,\n",
    "             'bridgeStone_up_tires':bridgeStone_1up_tires, 'fireStone_up_tires':fireStone_1up_tires, 'fuzion_up_tires':fuzion_1up_tires,\n",
    "             'bridgeStone_up_rebate':bridgeStone_1up_tires_rebate, 'fireStone_up_rebate':fireStone_1up_tires_rebate, 'fuzion_up_rebate':fuzion_1up_tires_rebate, 'total_up_rebate':total_1up_dollars,\n",
    "             'Range_lower':range_dollars_ll, 'Range_upper':range_dollars_ul,'Period': quarter, 'Grain': 'Quarter'})\n",
    "        calculatedData = calculatedData.append(tempData)\n",
    "    else:\n",
    "#         print('\\nJUNK:', tup_currentData,'\\n', 'indexNumber:', ii)\n",
    "        range_dollars_ll = (df_tierMap.iloc[1,3] * df_tierMap.iloc[1,4])\n",
    "        range_dollars_ul = (df_tierMap.iloc[1,1] * df_tierMap.iloc[1,4]) \n",
    "        tempData = pd.DataFrame(\n",
    "            {'Est_tier':0,  'currentBSdollars':0, 'currentFSdollars':0, 'currentFZdollars':0, 'Q1_MB_total':0, 'Q1_current_rebate':0,\n",
    "             'bridgeStone_est_tires':0, 'fireStone_est_tires':0, 'fuzion_est_tires':0, 'MB_est_tires':0,\n",
    "             'bridgeStone_est_rebate':0, 'fireStone_est_rebate':0, 'fuzion_est_rebate':0, 'total_est_rebate':0,\n",
    "             'Up_tier':1,\n",
    "             'bridgeStone_up_tires':0, 'fireStone_up_tires':0, 'fuzion_up_tires':0,\n",
    "             'bridgeStone_up_rebate':0, 'fireStone_up_rebate':0, 'fuzion_up_rebate':0, 'total_up_rebate':0,\n",
    "             'Range_lower':[range_dollars_ll], 'Range_upper':[range_dollars_ul],'Period': quarter, 'Grain': 'Quarter'})\n",
    "        calculatedData = calculatedData.append(tempData)\n",
    "###########################################################################################################################        \n",
    "calculatedData = calculatedData.reset_index(drop=True)\n",
    "finalData = pd.concat([calculatedData,df_select], axis=1)"
   ]
  },
  {
   "cell_type": "code",
   "execution_count": null,
   "metadata": {},
   "outputs": [],
   "source": [
    "finalData = finalData.replace([np.inf, -np.inf], np.nan).fillna(0)\n",
    "finalData.head()"
   ]
  },
  {
   "cell_type": "code",
   "execution_count": null,
   "metadata": {
    "collapsed": true
   },
   "outputs": [],
   "source": [
    "path = '//usoil.local/Production/USV/Apps/PowerBI/US AutoForce/Sales Reports/CMP/python_csv_output/'\n",
    "writeFilename = path + 'CMP_BSFS_ASSOC.csv'\n",
    "finalData.to_csv(writeFilename, index=False)\n",
    "writeFilename_archive = path + 'csv_archive/' + str(tup_now.tm_year) + '_' + str(tup_now.tm_mon).zfill(2) \\\n",
    "                        + '_' + str(tup_now.tm_mday).zfill(2) + '_' + 'CMP_BSFS_ASSOC_' \\\n",
    "                        + str(tup_now.tm_hour).zfill(2) + str(tup_now.tm_min).zfill(2) + str(tup_now.tm_sec).zfill(2) \\\n",
    "                        + '.csv'\n",
    "finalData.to_csv(writeFilename_archive, index=False)"
   ]
  },
  {
   "cell_type": "code",
   "execution_count": null,
   "metadata": {
    "collapsed": true
   },
   "outputs": [],
   "source": [
    "os.getcwd()"
   ]
  }
 ],
 "metadata": {
  "kernelspec": {
   "display_name": "Python 3",
   "language": "python",
   "name": "python3"
  },
  "language_info": {
   "codemirror_mode": {
    "name": "ipython",
    "version": 3
   },
   "file_extension": ".py",
   "mimetype": "text/x-python",
   "name": "python",
   "nbconvert_exporter": "python",
   "pygments_lexer": "ipython3",
   "version": "3.5.5"
  }
 },
 "nbformat": 4,
 "nbformat_minor": 2
}
