{
 "cells": [
  {
   "cell_type": "code",
   "execution_count": null,
   "metadata": {
    "collapsed": true
   },
   "outputs": [],
   "source": [
    "import pandas as pd\n",
    "import numpy as np\n",
    "import os\n",
    "\n",
    "from datetime import datetime, timedelta"
   ]
  },
  {
   "cell_type": "code",
   "execution_count": null,
   "metadata": {},
   "outputs": [],
   "source": [
    "filename = '//usoil.local/Production/USV/Apps/PowerBI/US AutoForce/Sales Reports/CMP/Current_COOP_MEDALLION.csv'\n",
    "df = pd.read_csv(filename, sep = ',')\n",
    "df.columns = df.columns.str.replace(' ', '_')\n",
    "df.columns = df.columns.str.replace('-', '_')\n",
    "df.columns = df.columns.str.replace('#', 'num')\n",
    "df = df.assign(CreateDate=0)\n",
    "\n",
    "ts_currentData = os.path.getctime(filename)\n",
    "dt_currentData = datetime.fromtimestamp(ts_currentData) - timedelta(days=31) # USED FOR TESTING-POC *** THIS SHOULD BE CHANGED\n",
    "tup_currentData = dt_currentData.timetuple()\n",
    "\n",
    "print(tup_currentData)"
   ]
  },
  {
   "cell_type": "code",
   "execution_count": null,
   "metadata": {
    "collapsed": true
   },
   "outputs": [],
   "source": [
    "filename2 = '//usoil.local/Production/USV/Apps/PowerBI/US AutoForce/Sales Reports/CMP/Incentive Requirments/COOP_MEDALLION_Incentive.txt'\n",
    "df_tierMap = pd.read_csv(filename2, sep = '\\t')\n",
    "df_tierMap.columns = df_tierMap.columns.str.replace(' ', '_')\n",
    "\n",
    "ts_incentive = os.path.getctime(filename2)\n",
    "dt_incentive = datetime.fromtimestamp(ts_incentive)\n",
    "# print(dt_currentData)"
   ]
  },
  {
   "cell_type": "code",
   "execution_count": null,
   "metadata": {
    "collapsed": true
   },
   "outputs": [],
   "source": [
    "df['CreateDate'] = str(tup_currentData.tm_year) + '-' + str(tup_currentData.tm_mon) + '-' + str(tup_currentData.tm_mday)"
   ]
  },
  {
   "cell_type": "code",
   "execution_count": null,
   "metadata": {
    "collapsed": true
   },
   "outputs": [],
   "source": [
    "# df.columns.to_series(index=range(df.shape[1]))"
   ]
  },
  {
   "cell_type": "code",
   "execution_count": null,
   "metadata": {
    "collapsed": true
   },
   "outputs": [],
   "source": [
    "currentYear = datetime.now().year # use this for last transaction from G3X program\n",
    "tup_now = datetime.now().timetuple() # used to create filename for CSV output"
   ]
  },
  {
   "cell_type": "code",
   "execution_count": null,
   "metadata": {
    "collapsed": true
   },
   "outputs": [],
   "source": [
    "calculatedData = pd.DataFrame([])\n",
    "for ii in range(df.shape[0]):\n",
    "\n",
    "    singleCusty = df.iloc[[ii]]\n",
    "    singleCusty.reset_index(inplace=True)\n",
    "        \n",
    "    if  (singleCusty.Primary_Share.values >= 80) & ((singleCusty.Qualifying_Units_Purchased/singleCusty.YTD_Unit_Goal).values >= 0.5):\n",
    "\n",
    "        if (tup_currentData.tm_mon == 1) | (tup_currentData.tm_mon == 2) | (tup_currentData.tm_mon == 3):\n",
    "            if ((tup_currentData.tm_year % 400 == 0) | (tup_currentData.tm_year % 4 == 0)) & (tup_currentData.tm_year % 100 != 0):\n",
    "                quarter = 1\n",
    "                daysINqtr = 91\n",
    "                runningDays = 91\n",
    "                print('Leap year')\n",
    "                singleCusty_select = singleCusty[\n",
    "                ['Dealer_Name','Enrollment_Level','Primary_Share','Qualifying_Units_Purchased','YTD_Units_Purchased']]\n",
    "            else:\n",
    "                quarter = 1\n",
    "                daysINqtr = 90\n",
    "                runningDays = 90\n",
    "                singleCusty_select = singleCusty[\n",
    "                ['Dealer_Name','Enrollment_Level','Primary_Share','Qualifying_Units_Purchased','YTD_Units_Purchased']]\n",
    "        elif (tup_currentData.tm_mon == 4) | (tup_currentData.tm_mon == 5) | (tup_currentData.tm_mon == 6):\n",
    "            quarter = 2\n",
    "            daysINqtr = 91\n",
    "            runningDays = 90\n",
    "            singleCusty_select = singleCusty[\n",
    "            ['Dealer_Name','Enrollment_Level','Primary_Share','Qualifying_Units_Purchased','YTD_Units_Purchased']]\n",
    "        elif (tup_currentData.tm_mon == 7) | (tup_currentData.tm_mon == 8) | (tup_currentData.tm_mon == 9):\n",
    "            quarter = 3\n",
    "            daysINqtr = 92\n",
    "            runningDays = 90 + 91\n",
    "            singleCusty_select = singleCusty[\n",
    "            ['Dealer_Name','Enrollment_Level','Primary_Share','Qualifying_Units_Purchased','YTD_Units_Purchased']]\n",
    "        else:\n",
    "            quarter = 4\n",
    "            daysINqtr = 92\n",
    "            runningDays = 90 + 91 + 92\n",
    "            singleCusty_select = singleCusty[\n",
    "            ['Dealer_Name','Enrollment_Level','Primary_Share','Qualifying_Units_Purchased','YTD_Units_Purchased']]\n",
    "        \n",
    "        #########################################################################################################################\n",
    "        if quarter in [2,3,4]:\n",
    "            numDays = tup_currentData.tm_yday - runningDays # get number of days\n",
    "        else:\n",
    "            numDays = tup_currentData.tm_yday # get number of days\n",
    "        #########################################################################################################################\n",
    "        \n",
    "        currentTires = singleCusty_select.YTD_Units_Purchased.values\n",
    "        MinQty = df_tierMap[df_tierMap.Tier.values == singleCusty_select.Enrollment_Level.values].MinQty.values\n",
    "        QualifyingTires = df_tierMap[df_tierMap.Tier.values == singleCusty_select.Enrollment_Level.values].Qualifying_Tires.values\n",
    "        LevelBonus = df_tierMap[df_tierMap.Tier.values == singleCusty_select.Enrollment_Level.values].Level_Bonus.values\n",
    "        \n",
    "        if   currentTires >= MinQty:\n",
    "            currentTier = 1\n",
    "            currentRebate = (singleCusty_select.Qualifying_Units_Purchased * (QualifyingTires + LevelBonus)).values\n",
    "        else:\n",
    "            currentTier = 0\n",
    "            currentRebate = 0\n",
    "        \n",
    "        estimatedTires = np.floor(singleCusty_select.iloc[:,4] / (numDays/daysINqtr)).values\n",
    "        estimatedQualTires = np.floor(singleCusty_select.iloc[:,3] / (numDays/daysINqtr)).values\n",
    "        if   estimatedTires >= MinQty:\n",
    "            estTier = 1\n",
    "            estRebate = estimatedQualTires * (QualifyingTires + LevelBonus)\n",
    "        else:\n",
    "            estTier = 0\n",
    "            estRebate = 0\n",
    "\n",
    "# ###########################################################################################################################\n",
    "#         print(singleCusty_select)\n",
    "# ###########################################################################################################################     \n",
    "#         print('\\nCurrent Tier:', currentTier)\n",
    "#         print('\\nCurrent Rebate:', currentRebate)\n",
    "#         print('\\nCurrent QTY:', currentTires)\n",
    "        \n",
    "#         print('\\nEstimated Tier:', estTier)\n",
    "#         print('\\nEstimated Rebate:', estRebate)\n",
    "#         print('\\nEstimated QTY:', estimatedTires)\n",
    "#         print('\\n-----------------------------------------------------------------------------------------------------------------------\\n')\n",
    "# ###########################################################################################################################\n",
    "#         print(tup_currentData, '\\n' 'indexNumber:', ii)\n",
    "#         print('\\n-----------------------------------------------------------------------------------------------------------------------\\n')\n",
    "# ###########################################################################################################################\n",
    "\n",
    "        tempData = pd.DataFrame(\n",
    "            {'current_tier':currentTier, 'current_total_rebate':currentRebate, 'current_tires': currentTires,\n",
    "             'estimated_tier':estTier, 'total_est_rebate':estRebate, 'current_est_tires':estimatedTires,\n",
    "             'period': quarter, 'grain': 'Quarter'})\n",
    "        calculatedData = calculatedData.append(tempData)\n",
    "    else:\n",
    "        tempData = pd.DataFrame(\n",
    "            {'current_tier':0, 'current_total_rebate':0, 'current_tires': 0,\n",
    "             'estimated_tier':0, 'total_est_rebate':0, 'current_est_tires':0,\n",
    "             'period': [quarter], 'grain': 'Quarter'})\n",
    "        calculatedData = calculatedData.append(tempData)\n",
    "###########################################################################################################################        \n",
    "calculatedData = calculatedData.reset_index(drop=True)\n",
    "finalData = pd.concat([calculatedData,df], axis=1)"
   ]
  },
  {
   "cell_type": "code",
   "execution_count": null,
   "metadata": {
    "collapsed": true
   },
   "outputs": [],
   "source": [
    "finalData = finalData.replace([np.inf, -np.inf], np.nan).fillna(0)\n",
    "# finalData.columns"
   ]
  },
  {
   "cell_type": "code",
   "execution_count": null,
   "metadata": {
    "collapsed": true
   },
   "outputs": [],
   "source": [
    "path = '//usoil.local/Production/USV/Apps/PowerBI/US AutoForce/Sales Reports/CMP/python_csv_output/'\n",
    "writeFilename = path + 'CMP_COOP_MEDALLION.csv'\n",
    "finalData.to_csv(writeFilename, index=False)\n",
    "writeFilename_archive = path + 'csv_archive/' + str(tup_now.tm_year) + '_' + str(tup_now.tm_mon).zfill(2) \\\n",
    "                        + '_' + str(tup_now.tm_mday).zfill(2) + '_' + 'CMP_COOP_MEDALLION_' \\\n",
    "                        + str(tup_now.tm_hour).zfill(2) + str(tup_now.tm_min).zfill(2) + str(tup_now.tm_sec).zfill(2) \\\n",
    "                        + '.csv'\n",
    "finalData.to_csv(writeFilename_archive, index=False)"
   ]
  },
  {
   "cell_type": "code",
   "execution_count": null,
   "metadata": {
    "collapsed": true
   },
   "outputs": [],
   "source": [
    "# os.getcwd()"
   ]
  }
 ],
 "metadata": {
  "kernelspec": {
   "display_name": "Python 3",
   "language": "python",
   "name": "python3"
  },
  "language_info": {
   "codemirror_mode": {
    "name": "ipython",
    "version": 3
   },
   "file_extension": ".py",
   "mimetype": "text/x-python",
   "name": "python",
   "nbconvert_exporter": "python",
   "pygments_lexer": "ipython3",
   "version": "3.6.0"
  }
 },
 "nbformat": 4,
 "nbformat_minor": 2
}
