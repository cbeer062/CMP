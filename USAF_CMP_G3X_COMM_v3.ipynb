{
 "cells": [
  {
   "cell_type": "code",
   "execution_count": null,
   "metadata": {
    "collapsed": true
   },
   "outputs": [],
   "source": [
    "import pandas as pd\n",
    "import numpy as np\n",
    "import os\n",
    "import glob\n",
    "\n",
    "from datetime import datetime"
   ]
  },
  {
   "cell_type": "code",
   "execution_count": null,
   "metadata": {
    "collapsed": true
   },
   "outputs": [],
   "source": [
    "filename = '//usoil.local/Production/USV/Apps/PowerBI/US AutoForce/Sales Reports/CMP/Current_G3x_Comm.csv'\n",
    "df = pd.read_csv(filename, sep = ',')\n",
    "df.columns = df.columns.str.replace(' ', '_')\n",
    "df.columns = df.columns.str.replace('#', 'num')\n",
    "\n",
    "df['Net_Shipments'] = df['Net_Shipments'].str.replace(',','')\n",
    "df['Tier_1_Objective'] = df['Tier_1_Objective'].str.replace(',','')\n",
    "df['Tier_2_Objective'] = df['Tier_2_Objective'].str.replace(',','')\n",
    "df['Tier_3_Objective'] = df['Tier_3_Objective'].str.replace(',','')\n",
    "\n",
    "filename2 = '//usoil.local/Production/USV/Apps/PowerBI/US AutoForce/Sales Reports/CMP/Incentive Requirments/GDY_Comm_Align_Incentive.txt'\n",
    "df_tierMap_align = pd.read_csv(filename2, sep = '\\t')\n",
    "\n",
    "filename3 = '//usoil.local/Production/USV/Apps/PowerBI/US AutoForce/Sales Reports/CMP/Incentive Requirments/GDY_Comm_Base_Incentive.txt'\n",
    "df_tierMap_base = pd.read_csv(filename3, sep = '\\t')\n",
    "df.shape"
   ]
  },
  {
   "cell_type": "code",
   "execution_count": null,
   "metadata": {
    "collapsed": true
   },
   "outputs": [],
   "source": [
    "df_select = df[\n",
    "    ['G3X_CO_Name','Aligned','Net_Shipments','Tier_1_Objective','Tier_2_Objective','Tier_3_Objective',\\\n",
    "     'Goodyear_Core_Net_Shipments', 'Goodyear_Mid_Net_Shipments', 'Kelly_Net_Shipments','Last_Transaction']]"
   ]
  },
  {
   "cell_type": "code",
   "execution_count": null,
   "metadata": {
    "collapsed": true
   },
   "outputs": [],
   "source": [
    "currentYear = datetime.now().year"
   ]
  },
  {
   "cell_type": "code",
   "execution_count": null,
   "metadata": {
    "collapsed": true
   },
   "outputs": [],
   "source": [
    "tup_now = datetime.now().timetuple()"
   ]
  },
  {
   "cell_type": "code",
   "execution_count": null,
   "metadata": {
    "collapsed": true
   },
   "outputs": [],
   "source": [
    "ts_currentData = os.path.getctime(filename)\n",
    "dt_currentData = datetime.fromtimestamp(ts_currentData)\n",
    "# print(dt_currentData)\n",
    "ts_incentive = os.path.getctime(filename2)\n",
    "dt_incentive = datetime.fromtimestamp(ts_incentive)\n",
    "# print(dt_incentive)"
   ]
  },
  {
   "cell_type": "code",
   "execution_count": null,
   "metadata": {
    "collapsed": true,
    "scrolled": true
   },
   "outputs": [],
   "source": [
    "calculatedData = pd.DataFrame([])\n",
    "for ii in range(df.shape[0]):\n",
    "\n",
    "    singleCusty = df_select.iloc[[ii]]\n",
    "    singleCusty.reset_index(inplace=True)\n",
    "\n",
    "    tt = pd.to_datetime(singleCusty['Last_Transaction'])[0].timetuple()\n",
    "        \n",
    "    if  tt.tm_year == currentYear:\n",
    "\n",
    "        if (tt.tm_mon == 1) | (tt.tm_mon == 2) | (tt.tm_mon == 3):\n",
    "            if ((tt.tm_year % 400 == 0) | (tt.tm_year % 4 == 0)) & (tt.tm_year % 100 != 0):\n",
    "                quarter = 1\n",
    "                daysINqtr = 91\n",
    "                percentPayout = 0.25\n",
    "                print('Leap year')\n",
    "            else:\n",
    "                quarter = 1\n",
    "                daysINqtr = 90\n",
    "                percentPayout = 0.25\n",
    "        elif (tt.tm_mon == 4) | (tt.tm_mon == 5) | (tt.tm_mon == 6):\n",
    "            quarter = 2\n",
    "            daysINqtr = 91\n",
    "            print(quarter)\n",
    "            break # for testing            \n",
    "        elif (tt.tm_mon == 7) | (tt.tm_mon == 8) | (tt.tm_mon == 9):\n",
    "            quarter = 3\n",
    "            daysINqtr = 92\n",
    "            print(quarter)\n",
    "            break # for testing\n",
    "        else:\n",
    "            quarter = 4\n",
    "            daysINqtr = 92\n",
    "            print(quarter)\n",
    "            break # for testing\n",
    "        \n",
    "        numDays = tt.tm_yday # get number of days\n",
    "\n",
    "        estimatedTires = np.floor(singleCusty.Net_Shipments.astype(int)/(numDays/daysINqtr)).values\n",
    "        netShip = singleCusty.Net_Shipments.values.astype(int)\n",
    "        netGYc = singleCusty.Goodyear_Core_Net_Shipments.values.astype(int)\n",
    "        netGYm = singleCusty.Goodyear_Mid_Net_Shipments.values.astype(int)\n",
    "        netKelly = singleCusty.Kelly_Net_Shipments.values.astype(int)\n",
    "        \n",
    "        objective1 = singleCusty.Tier_1_Objective.values.astype(int)\n",
    "        objective2 = singleCusty.Tier_2_Objective.values.astype(int)\n",
    "        objective3 = singleCusty.Tier_3_Objective.values.astype(int)\n",
    "\n",
    "        # Current Tier\n",
    "        if   (netShip >= objective1) & (netShip < objective2):\n",
    "            currentTier = 1\n",
    "        elif (netShip >= objective2) & (netShip < objective3):\n",
    "            currentTier = 2\n",
    "        elif (netShip >= objective3):\n",
    "            currentTier = 3\n",
    "        else:\n",
    "            currentTier = 0\n",
    "        \n",
    "        # Estimated Tier\n",
    "        if   (estimatedTires >= objective1) & (estimatedTires < objective2):\n",
    "            estimatedTier = 1\n",
    "            objective = objective2\n",
    "        elif (estimatedTires >= objective2) & (estimatedTires < objective3):\n",
    "            estimatedTier = 2\n",
    "            objective = objective3\n",
    "        elif (estimatedTires >= objective3):\n",
    "            estimatedTier = 3\n",
    "            objective = objective3\n",
    "        else:\n",
    "            estimatedTier = 0\n",
    "            objective = objective1\n",
    "            \n",
    "        # Up Tier\n",
    "        if estimatedTier == 3:\n",
    "            upTier = 3\n",
    "        else:\n",
    "            upTier = estimatedTier + 1\n",
    "        \n",
    "        # Check if customer is aligned\n",
    "        if singleCusty.Aligned.values == 'N':\n",
    "            df_tierMap = df_tierMap_base\n",
    "        else:\n",
    "            df_tierMap = df_tierMap_align\n",
    "\n",
    "        # floor to underestimate estimated tires\n",
    "        goodYR_core_est_tires = np.floor(netGYc/(numDays/daysINqtr))\n",
    "        goodYR_core_est_tires_rebate = np.floor(goodYR_core_est_tires * df_tierMap.iloc[estimatedTier,1] * percentPayout)\n",
    "        goodYR_core_prop = netGYc/netShip\n",
    "        # ceil to make sure the customer surpasses the minimal 1up tire threshold\n",
    "        goodYR_core_1up_tires = np.ceil(goodYR_core_prop*objective)\n",
    "        goodYR_core_1up_tires_rebate = np.floor(goodYR_core_1up_tires * df_tierMap.iloc[upTier,1] * percentPayout)\n",
    "\n",
    "        goodYR_mid_est_tires = np.floor(netGYm/(numDays/daysINqtr))\n",
    "        goodYR_mid_est_tires_rebate = np.floor(goodYR_mid_est_tires * df_tierMap.iloc[estimatedTier,2] * percentPayout)\n",
    "        goodYR_mid_prop = netGYm/netShip\n",
    "        goodYR_mid_1up_tires = np.ceil(goodYR_mid_prop*objective)\n",
    "        goodYR_mid_1up_tires_rebate = np.floor(goodYR_mid_1up_tires * df_tierMap.iloc[upTier,2] * percentPayout)\n",
    "        \n",
    "\n",
    "        kelly_est_tires = np.floor(netKelly/(numDays/daysINqtr))\n",
    "        kelly_est_tires_rebate = np.floor(kelly_est_tires * df_tierMap.iloc[estimatedTier,3] * percentPayout)\n",
    "        kelly_prop = netKelly/netShip\n",
    "        kelly_1up_tires = np.ceil(kelly_prop*objective)\n",
    "        kelly_1up_tires_rebate = np.floor(kelly_1up_tires * df_tierMap.iloc[upTier,3] * percentPayout)\n",
    "        \n",
    "        total_est_tires = goodYR_core_est_tires + goodYR_mid_est_tires + kelly_est_tires\n",
    "        total_est_dollars = np.floor((goodYR_core_est_tires_rebate+goodYR_mid_est_tires_rebate+kelly_est_tires_rebate) * percentPayout)\n",
    "        total_1up_dollars = np.floor((goodYR_core_1up_tires_rebate+goodYR_mid_1up_tires_rebate+kelly_1up_tires_rebate) * percentPayout)\n",
    "        total_1up_tires = goodYR_core_1up_tires+goodYR_mid_1up_tires+kelly_1up_tires\n",
    "        \n",
    "        if estimatedTires > total_1up_tires:\n",
    "            goodYR_core_1up_tires = goodYR_core_est_tires\n",
    "            goodYR_mid_1up_tires = goodYR_mid_est_tires\n",
    "            kelly_1up_tires = kelly_est_tires\n",
    "            total_1up_tires = estimatedTires\n",
    "            \n",
    "            goodYR_core_1up_tires_rebate = goodYR_core_est_tires_rebate\n",
    "            goodYR_mid_1up_tires_rebate = goodYR_mid_est_tires_rebate\n",
    "            kelly_1up_tires_rebate = kelly_est_tires_rebate\n",
    "            total_1up_dollars = total_est_dollars\n",
    "\n",
    "        range_dollars_ll = np.floor((total_1up_tires*df_tierMap.iloc[upTier,3]*percentPayout))#.values\n",
    "        range_dollars_ul = np.floor((total_1up_tires*df_tierMap.iloc[upTier,1]*percentPayout))#.values\n",
    "        \n",
    "###########################################################################################################################        \n",
    "#         print(singleCusty)\n",
    "# ###########################################################################################################################     \n",
    "#         print('\\nEstimated Tier:', [estimatedTier])\n",
    "        \n",
    "#         print('\\nEstimated Tires ~ Goodyear:', goodYR_core_est_tires)\n",
    "#         print('Estimated Tires ~ Kelly:', goodYR_mid_est_tires)        \n",
    "#         print('Estimated Tires ~ Dunlop:', kelly_est_tires)\n",
    "#         print('-------------------------------------')\n",
    "#         print('Estimated Tires ~ Total:',estimatedTires)\n",
    "        \n",
    "#         print('\\nEstimated Dollars ~ Goodyear:',goodYR_core_est_tires_rebate)\n",
    "#         print('Estimated Dollars ~ Kelly:',goodYR_mid_est_tires_rebate)\n",
    "#         print('Estimated Dollars ~ Dunlop:',kelly_est_tires_rebate)\n",
    "#         print('-------------------------------------')\n",
    "#         print('Estimated Dollars ~ Total:',total_est_dollars)\n",
    "#         print('\\n-----------------------------------------------------------------------------------------------------------------------\\n')\n",
    "# ###########################################################################################################################\n",
    "#         print('Estimated 1up Tier:', [upTier])\n",
    "        \n",
    "#         print('\\n1up Tires ~ Goodyear:', goodYR_core_1up_tires)\n",
    "#         print('1up Tires ~ Kelly:', goodYR_mid_1up_tires)        \n",
    "#         print('1up Tires ~ Dunlop:', kelly_1up_tires)\n",
    "#         print('-------------------------------------')\n",
    "#         print('Estimated 1up Tires ~ Total:',total_1up_tires)\n",
    "        \n",
    "#         print('\\n1up Dollars ~ Goodyear:',goodYR_core_1up_tires_rebate)\n",
    "#         print('1up Dollars ~ Kelly:',goodYR_mid_1up_tires_rebate)\n",
    "#         print('1up Dollars ~ Dunlop:',kelly_1up_tires_rebate)\n",
    "#         print('-------------------------------------')\n",
    "#         print('1up Dollars ~ Total:',total_1up_dollars)\n",
    "#         print('\\n-----------------------------------------------------------------------------------------------------------------------\\n')\n",
    "# ###########################################################################################################################        \n",
    "#         print('Range_ll:',range_dollars_ll)\n",
    "#         print('Range_ul:',range_dollars_ul, '\\n')\n",
    "# ###########################################################################################################################\n",
    "#         print(tt, '\\n' 'indexNumber:', ii, '\\n')\n",
    "###########################################################################################################################\n",
    "\n",
    "        tempData = pd.DataFrame(\n",
    "            {'Est_tier':estimatedTier,\n",
    "             'GY_core_est_tires':goodYR_core_est_tires, 'GY_mid_est_tires':goodYR_mid_est_tires, 'kelly_est_tires':kelly_est_tires, 'total_est_tires':total_est_tires,\n",
    "             'GY_core_est_rebate':goodYR_core_est_tires_rebate, 'GY_mid_est_rebate':goodYR_mid_est_tires_rebate, 'kelly_est_rebate':kelly_est_tires_rebate,\n",
    "             'total_est_rebate': total_est_dollars,'Up_tier':upTier,\n",
    "             'GY_core_up_tires':goodYR_core_1up_tires, 'GY_mid_up_tires':goodYR_mid_1up_tires, 'kelly_up_tires':kelly_1up_tires, 'total_up_tires':total_1up_tires,\n",
    "             'GY_core_up_rebate':goodYR_core_1up_tires_rebate, 'GY_mid_up_rebate':goodYR_mid_1up_tires_rebate, 'kelly_up_rebate':kelly_1up_tires_rebate,\n",
    "             'total_up_rebate':total_1up_dollars,\n",
    "             'Range_lower':range_dollars_ll, 'Range_upper':range_dollars_ul,'Period': quarter, 'Grain': 'Quarter'})\n",
    "        calculatedData = calculatedData.append(tempData)\n",
    "    else:\n",
    "#         print('\\nJUNK:', tt,'\\n', 'indexNumber:', ii)\n",
    "        range_dollars_ll = (df_tierMap.iloc[1,3] * objective)\n",
    "        range_dollars_ul = (df_tierMap.iloc[1,1] * objective) \n",
    "        tempData = pd.DataFrame(\n",
    "            {'Est_tier':0,\n",
    "             'GY_core_est_tires':0, 'GY_mid_est_tires':0, 'kelly_est_tires':0, 'total_est_tires':0,\n",
    "             'GY_core_est_rebate':0, 'GY_mid_est_rebate':0, 'kelly_est_rebate':0,\n",
    "             'total_est_rebate': 0,'Up_tier':1,\n",
    "             'GY_core_up_tires':0, 'GY_mid_up_tires':0, 'kelly_up_tires':0, 'total_up_tires':0,\n",
    "             'GY_core_up_rebate':0, 'GY_mid_up_rebate':0, 'kelly_up_rebate':0,\n",
    "             'total_up_rebate':0,\n",
    "             'Range_lower':range_dollars_ll, 'Range_upper':range_dollars_ul,'Period': quarter, 'Grain': 'Quarter'})\n",
    "        calculatedData = calculatedData.append(tempData)\n",
    "#         print(ii)\n",
    "###########################################################################################################################        \n",
    "calculatedData = calculatedData.reset_index(drop=True)\n",
    "finalData = pd.concat([calculatedData,df], axis=1)"
   ]
  },
  {
   "cell_type": "code",
   "execution_count": null,
   "metadata": {
    "collapsed": true
   },
   "outputs": [],
   "source": [
    "finalData = finalData.replace([np.inf, -np.inf], np.nan).fillna(0)"
   ]
  },
  {
   "cell_type": "code",
   "execution_count": null,
   "metadata": {
    "collapsed": true
   },
   "outputs": [],
   "source": [
    "path = '//usoil.local/Production/USV/Apps/PowerBI/US AutoForce/Sales Reports/CMP/python_csv_output/'\n",
    "writeFilename = path + 'CMP_G3X_COMM.csv'\n",
    "finalData.to_csv(writeFilename, index=False)\n",
    "writeFilename_archive = path + 'csv_archive/' + str(tup_now.tm_year) + '_' + str(tup_now.tm_mon).zfill(2) \\\n",
    "                        + '_' + str(tup_now.tm_mday).zfill(2) + '_' + 'CMP_G3X_COMM_' \\\n",
    "                        + str(tup_now.tm_hour).zfill(2) + str(tup_now.tm_min).zfill(2) + str(tup_now.tm_sec).zfill(2) \\\n",
    "                        + '.csv'\n",
    "finalData.to_csv(writeFilename_archive, index=False)"
   ]
  },
  {
   "cell_type": "code",
   "execution_count": null,
   "metadata": {
    "collapsed": true
   },
   "outputs": [],
   "source": [
    "finalData.head(1)"
   ]
  },
  {
   "cell_type": "code",
   "execution_count": null,
   "metadata": {
    "collapsed": true
   },
   "outputs": [],
   "source": []
  },
  {
   "cell_type": "code",
   "execution_count": null,
   "metadata": {
    "collapsed": true
   },
   "outputs": [],
   "source": [
    "# path = '//usoil.local/Production/USV/Apps/PowerBI/US AutoForce/Sales Reports/CMP/python_csv_output/'\n",
    "# writeFilename = path + 'cmp_G3X.csv'\n",
    "# finalData.to_csv(writeFilename, index=False)\n",
    "# writeFilename_archive = path + 'csv_archive/' + str(dt_currentData.year) + '_' + str(dt_currentData.month) + '_' + str(dt_currentData.day) + '_' + 'CMP_G3X.csv'\n",
    "# finalData.to_csv(writeFilename_archive, index=False)"
   ]
  }
 ],
 "metadata": {
  "kernelspec": {
   "display_name": "Python 3",
   "language": "python",
   "name": "python3"
  },
  "language_info": {
   "codemirror_mode": {
    "name": "ipython",
    "version": 3
   },
   "file_extension": ".py",
   "mimetype": "text/x-python",
   "name": "python",
   "nbconvert_exporter": "python",
   "pygments_lexer": "ipython3",
   "version": "3.6.0"
  }
 },
 "nbformat": 4,
 "nbformat_minor": 2
}
