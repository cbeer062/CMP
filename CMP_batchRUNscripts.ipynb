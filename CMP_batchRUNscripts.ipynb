{
 "cells": [
  {
   "cell_type": "code",
   "execution_count": null,
   "metadata": {
    "collapsed": true
   },
   "outputs": [],
   "source": [
    "import nbformat\n",
    "from nbconvert.preprocessors import ExecutePreprocessor"
   ]
  },
  {
   "cell_type": "code",
   "execution_count": null,
   "metadata": {
    "collapsed": true
   },
   "outputs": [],
   "source": [
    "# get list of all Jupyter Notebooks to run\n",
    "notebook_filename_list = ['C:/Users/R011846/Documents/Python/Scripts/sandbox/USAF_CMP/USAF_CMP_BSFS_ASSOC_v3.ipynb',\n",
    "                          'C:/Users/R011846/Documents/Python/Scripts/sandbox/USAF_CMP/USAF_CMP_BSFS_BARNN_v3.ipynb',\n",
    "                          'C:/Users/R011846/Documents/Python/Scripts/sandbox/USAF_CMP/USAF_CMP_G3X_AVI_TSN_v4.ipynb',\n",
    "                          'C:/Users/R011846/Documents/Python/Scripts/sandbox/USAF_CMP/USAF_CMP_G3X_COMM_v3.ipynb',\n",
    "                          'C:/Users/R011846/Documents/Python/Scripts/sandbox/USAF_CMP/USAF_CMP_G3X_CON_v3.ipynb',\n",
    "                          'C:/Users/R011846/Documents/Python/Scripts/sandbox/USAF_CMP/USAF_CMP_MICH_AAD_BIB_BASIC&PLUS.ipynb',\n",
    "                          'C:/Users/R011846/Documents/Python/Scripts/sandbox/USAF_CMP/USAF_CMP_COOP_MEDALLION_v5.ipynb']\n",
    "# get count of notebooks\n",
    "ipynbFileCount = len(notebook_filename_list)\n",
    "\n",
    "for i in range(ipynbFileCount):\n",
    "    # open notebook\n",
    "    nb = nbformat.read(open(notebook_filename_list[i]), as_version = nbformat.NO_CONVERT)\n",
    "    # prepare execution preprocessor\n",
    "    ep = ExecutePreprocessor(timeout = 600, kernel_name = 'python3')\n",
    "    \n",
    "    # create run_path - this seems to be arbitrary\n",
    "    run_path = 'C:/Users/R011846/Documents/Python'\n",
    "    # this is the engine to run each notebook\n",
    "    temp = ep.preprocess(nb,{'metadata': {'path': run_path}})"
   ]
  },
  {
   "cell_type": "code",
   "execution_count": null,
   "metadata": {
    "collapsed": true
   },
   "outputs": [],
   "source": []
  }
 ],
 "metadata": {
  "kernelspec": {
   "display_name": "Python 3",
   "language": "python",
   "name": "python3"
  },
  "language_info": {
   "codemirror_mode": {
    "name": "ipython",
    "version": 3
   },
   "file_extension": ".py",
   "mimetype": "text/x-python",
   "name": "python",
   "nbconvert_exporter": "python",
   "pygments_lexer": "ipython3",
   "version": "3.6.0"
  }
 },
 "nbformat": 4,
 "nbformat_minor": 2
}
