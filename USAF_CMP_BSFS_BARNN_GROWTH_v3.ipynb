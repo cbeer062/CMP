{
 "cells": [
  {
   "cell_type": "code",
   "execution_count": null,
   "metadata": {
    "collapsed": true
   },
   "outputs": [],
   "source": [
    "import pandas as pd\n",
    "import numpy as np\n",
    "import os\n",
    "\n",
    "from datetime import datetime, timedelta"
   ]
  },
  {
   "cell_type": "code",
   "execution_count": null,
   "metadata": {},
   "outputs": [],
   "source": [
    "filename = '//usoil.local/Production/USV/Apps/PowerBI/US AutoForce/Sales Reports/CMP/Current_BSFS_Barnn_Growth.csv'\n",
    "df = pd.read_csv(filename, sep = ',')\n",
    "df.columns = df.columns.str.replace(' ', '_')\n",
    "df.columns = df.columns.str.replace('-', '_')\n",
    "df.columns = df.columns.str.replace('#', 'num')\n",
    "df.columns = df.columns.str.replace('%', 'PER')\n",
    "\n",
    "# df['This_Year_Growth_Goal'] = df['This_Year_Growth_Goal'].str.replace(',','')\n",
    "\n",
    "filename2 = '//usoil.local/Production/USV/Apps/PowerBI/US AutoForce/Sales Reports/CMP/Incentive Requirments/BSFS_BARNN_Growth_Incentive.txt'\n",
    "df_tierMap = pd.read_csv(filename2, sep = '\\t')\n",
    "df_tierMap.columns = df_tierMap.columns.str.replace(' ', '_')\n",
    "\n",
    "df.shape"
   ]
  },
  {
   "cell_type": "code",
   "execution_count": null,
   "metadata": {
    "collapsed": true
   },
   "outputs": [],
   "source": [
    "# df_tierMap"
   ]
  },
  {
   "cell_type": "code",
   "execution_count": null,
   "metadata": {
    "collapsed": true
   },
   "outputs": [],
   "source": [
    "# df.columns.to_series(index=range(df.shape[1])) "
   ]
  },
  {
   "cell_type": "code",
   "execution_count": null,
   "metadata": {},
   "outputs": [],
   "source": [
    "df_select = df.iloc[:,[0,1,67,68,69,70,71,72,73,74,75,76,77,78,79,95]]\n",
    "df_select = df_select.assign(YTD_MB_Sum=0,CurrentTier=0,CreateDate=0,tierUP=1,CurrentPayout=0)\n",
    "\n",
    "df_select['YTD_MB_Sum'] = df_select.H1_MB + df_select.H1_MB_2nd_\n",
    "\n",
    "# df_select.head(2)"
   ]
  },
  {
   "cell_type": "code",
   "execution_count": null,
   "metadata": {
    "collapsed": true
   },
   "outputs": [],
   "source": [
    "currentYear = datetime.now().year"
   ]
  },
  {
   "cell_type": "code",
   "execution_count": null,
   "metadata": {
    "collapsed": true
   },
   "outputs": [],
   "source": [
    "tup_now = datetime.now().timetuple()"
   ]
  },
  {
   "cell_type": "code",
   "execution_count": null,
   "metadata": {},
   "outputs": [],
   "source": [
    "ts_currentData = os.path.getctime(filename)\n",
    "dt_currentData = datetime.fromtimestamp(ts_currentData) - timedelta(days=35) # USED FOR TESTING-POC *** THIS SHOULD BE CHANGED\n",
    "tup_currentData = dt_currentData.timetuple()\n",
    "print(tup_currentData)\n",
    "df_select['CreateDate'] = str(tup_currentData.tm_year) + '-' + str(tup_currentData.tm_mon) + '-' + str(tup_currentData.tm_mday)\n",
    "\n",
    "ts_incentive = os.path.getctime(filename2)\n",
    "dt_incentive = datetime.fromtimestamp(ts_incentive)\n",
    "# print(dt_currentData) "
   ]
  },
  {
   "cell_type": "code",
   "execution_count": null,
   "metadata": {
    "collapsed": true
   },
   "outputs": [],
   "source": [
    "# tup_currentData"
   ]
  },
  {
   "cell_type": "code",
   "execution_count": null,
   "metadata": {
    "collapsed": true
   },
   "outputs": [],
   "source": [
    "# df_select.head()"
   ]
  },
  {
   "cell_type": "code",
   "execution_count": null,
   "metadata": {
    "collapsed": true
   },
   "outputs": [],
   "source": [
    "# df_select2 = df_select[\n",
    "#     ['Dealer_Name_','H1_BS', 'H1_FS', 'H1_MB', 'H1_FZ', 'H1_TOTAL', 'H1_BS_2nd_',\n",
    "#    'H1_FS_2nd_', 'H1_MB_2nd_', 'H1_FZ_2nd_', 'H1_Total_2nd',\n",
    "#    'H1_TOTAL_DEL', 'H1_TOTAL_NET', 'H1_PER_MB','This_Year_Growth_Goal',\n",
    "#    'YTD_MB_Sum','CurrentTier','CreateDate','tierUP','CurrentPayout']]"
   ]
  },
  {
   "cell_type": "code",
   "execution_count": null,
   "metadata": {},
   "outputs": [],
   "source": [
    "calculatedData = pd.DataFrame([])\n",
    "for ii in range(df.shape[0]):\n",
    "\n",
    "    singleCusty = df_select.iloc[[ii]]\n",
    "    singleCusty.reset_index(inplace=True)\n",
    "\n",
    "    if  tup_currentData.tm_year == currentYear:\n",
    "\n",
    "#         if (tup_currentData.tm_mon == 1) | (tup_currentData.tm_mon == 2) | (tup_currentData.tm_mon == 3) | (tup_currentData.tm_mon == 4) | (tup_currentData.tm_mon == 5) | (tup_currentData.tm_mon == 6):\n",
    "        if tup_currentData.tm_mon in [1,2,3,4,5,6]:    \n",
    "            if ((tup_currentData.tm_year % 400 == 0) | (tup_currentData.tm_year % 4 == 0)) & (tup_currentData.tm_year % 100 != 0):\n",
    "                half = 1\n",
    "                daysINhalf = 182\n",
    "                print('Leap year')\n",
    "                df_select.loc[df_select['YTD_MB_Sum'] < (df_select.This_Year_Growth_Goal/2), 'CurrentTier'] = 0\n",
    "                df_select.loc[df_select['YTD_MB_Sum'] >= (df_select.This_Year_Growth_Goal/2), 'CurrentTier'] = 1\n",
    "            else:\n",
    "                half = 1\n",
    "                daysINhalf = 181\n",
    "                df_select.loc[df_select['YTD_MB_Sum'] < (df_select.This_Year_Growth_Goal/2), 'CurrentTier'] = 0\n",
    "                df_select.loc[df_select['YTD_MB_Sum'] >= (df_select.This_Year_Growth_Goal/2), 'CurrentTier'] = 1\n",
    "        else:\n",
    "            half = 2\n",
    "            daysINhalf = 365\n",
    "            df_select.loc[df_select['YTD_MB_Sum'] < (df_select.This_Year_Growth_Goal), 'CurrentTier'] = 0\n",
    "            df_select.loc[df_select['YTD_MB_Sum'] >= (df_select.This_Year_Growth_Goal), 'CurrentTier'] = 1\n",
    "            print(half)     \n",
    "            \n",
    "        if singleCusty.CurrentTier.values > 0:\n",
    "            singleCusty.CurrentPayout = singleCusty.YTD_MB_Sum.values * df_tierMap.iloc[1,1]\n",
    "        else:\n",
    "            singleCusty.CurrentPayout = 0\n",
    "            \n",
    "        numDays = tup_currentData.tm_yday # get number of days\n",
    "\n",
    "        estimatedTires = np.floor(singleCusty.YTD_MB_Sum.astype(int)/(numDays/daysINhalf)).values\n",
    "        \n",
    "        # calculates est tier\n",
    "        if half == 1:\n",
    "            if estimatedTires < (singleCusty.This_Year_Growth_Goal/2).values:\n",
    "                est_Tier = 0\n",
    "            else: \n",
    "                est_Tier = 1\n",
    "        elif half == 2:\n",
    "            if estimatedTires < (singleCusty.This_Year_Growth_Goal).values:\n",
    "                est_Tier = 0\n",
    "            else: \n",
    "                est_Tier = 1\n",
    "                            \n",
    "        tierUP = 1        \n",
    "        barnn_growth_est_rebate = estimatedTires * df_tierMap.iloc[est_Tier,1]\n",
    "        \n",
    "        #1Up Values\n",
    "        if half == 1:\n",
    "            if est_Tier == 0:\n",
    "                barnn_growth_1up_tires =  (singleCusty.This_Year_Growth_Goal/2) - estimatedTires\n",
    "                barnn_growth_1up_tires_rebate = (singleCusty.This_Year_Growth_Goal/2) * df_tierMap.iloc[tierUP,1]\n",
    "            else:\n",
    "                barnn_growth_1up_tires = 0\n",
    "                barnn_growth_1up_tires_rebate = barnn_growth_est_rebate\n",
    "        else:\n",
    "            if est_Tier == 0:\n",
    "                barnn_growth_1up_tires =  (singleCusty.This_Year_Growth_Goal) - estimatedTires\n",
    "                barnn_growth_1up_tires_rebate = (singleCusty.This_Year_Growth_Goal) * df_tierMap.iloc[tierUP,1]\n",
    "            else:\n",
    "                barnn_growth_1up_tires = estimatedTires\n",
    "                barnn_growth_1up_tires_rebate = barnn_growth_est_rebate\n",
    "\n",
    "\n",
    "        range_dollars_ll = ((barnn_growth_1up_tires*df_tierMap.iloc[0,1]))#.values\n",
    "        range_dollars_ul = ((barnn_growth_1up_tires*df_tierMap.iloc[tierUP,1]))#.values\n",
    "        \n",
    "        ###########################################################################################################################        \n",
    "#         print(singleCusty_select)\n",
    "# ###########################################################################################################################     \n",
    "#         print('\\nEstimated Tier:', [estTier])        \n",
    "#         print('\\nEstimated Tires ~ avi:', estimatedTires)        \n",
    "#         print('\\nEstimated Rebate ~ avi:',barnn_growth_est_rebate)\n",
    "#         print('\\n-----------------------------------------------------------------------------------------------------------------------\\n')\n",
    "# ###########################################################################################################################\n",
    "#         print('Estimated 1up Tier:', [tierUP])        \n",
    "#         print('\\n1up Tires ~ avi:', barnn_growth_1up_tires)        \n",
    "#         print('\\n1up Dollars ~ avi:',barnn_growth_1up_tires_rebate)\n",
    "#         print('\\n-----------------------------------------------------------------------------------------------------------------------\\n')\n",
    "# ###########################################################################################################################        \n",
    "#         print('Range_ll:',range_dollars_ll)\n",
    "#         print('Range_ul:',range_dollars_ul, '\\n')\n",
    "# ###########################################################################################################################\n",
    "#         print(tt, '\\n' 'indexNumber:', ii, '\\n')\n",
    "###########################################################################################################################\n",
    "\n",
    "        tempData = pd.DataFrame(\n",
    "            {'estimated_tier':est_Tier,\n",
    "             'current_est_tires':estimatedTires, 'total_est_rebate':barnn_growth_est_rebate, 'period':half, 'grain': 'Semi-Annual',\n",
    "             'Up_tier':tierUP,\n",
    "             'barnn_growth_up_tires':barnn_growth_1up_tires, 'barnn_growth_up_rebate':barnn_growth_1up_tires_rebate,\n",
    "             'range_lower':range_dollars_ll, 'range_upper':range_dollars_ul})\n",
    "        calculatedData = calculatedData.append(tempData)\n",
    "    else:\n",
    "#         print('\\nJUNK:', tt,'\\n', 'indexNumber:', ii)\n",
    "        tempData = pd.DataFrame(\n",
    "            {'estimated_tier':0,\n",
    "             'current_est_tires':0, 'total_est_rebate':0, 'period':half, 'grain': 'Semi-Annual',\n",
    "             'Up_tier':1,\n",
    "             'barnn_growth_up_tires':0, 'barnn_growth_up_rebate':0,\n",
    "             'range_lower':range_dollars_ll, 'range_upper':range_dollars_ul})\n",
    "        calculatedData = calculatedData.append(tempData)\n",
    "#         print(ii)\n",
    "\n",
    "###########################################################################################################################        \n",
    "calculatedData = calculatedData.reset_index(drop=True)\n",
    "finalData = pd.concat([calculatedData,df_select], axis=1, sort=True)"
   ]
  },
  {
   "cell_type": "code",
   "execution_count": null,
   "metadata": {
    "scrolled": true
   },
   "outputs": [],
   "source": [
    "finalData = finalData.replace([np.inf, -np.inf], np.nan).fillna(0)\n",
    "# finalData.head()"
   ]
  },
  {
   "cell_type": "code",
   "execution_count": null,
   "metadata": {
    "collapsed": true
   },
   "outputs": [],
   "source": [
    "path = '//usoil.local/Production/USV/Apps/PowerBI/US AutoForce/Sales Reports/CMP/python_csv_output/'\n",
    "writeFilename = path + 'CMP_BSFS_BARNN_GROWTH.csv'\n",
    "finalData.to_csv(writeFilename, index=False)\n",
    "writeFilename_archive = path + 'csv_archive/' + str(tup_now.tm_year) + '_' + str(tup_now.tm_mon).zfill(2) \\\n",
    "                        + '_' + str(tup_now.tm_mday).zfill(2) + '_' + 'CMP_BSFS_BARNN_GROWTH_' \\\n",
    "                        + str(tup_now.tm_hour).zfill(2) + str(tup_now.tm_min).zfill(2) + str(tup_now.tm_sec).zfill(2) \\\n",
    "                        + '.csv'\n",
    "finalData.to_csv(writeFilename_archive, index=False)"
   ]
  },
  {
   "cell_type": "code",
   "execution_count": null,
   "metadata": {
    "collapsed": true
   },
   "outputs": [],
   "source": [
    "# path = '//usoil.local/Production/USV/Apps/PowerBI/US AutoForce/Sales Reports/CMP/python_csv_output/'\n",
    "# writeFilename = path + 'cmp_G3X.csv'\n",
    "# finalData.to_csv(writeFilename, index=False)\n",
    "# writeFilename_archive = path + 'csv_archive/' + str(dt_currentData.year) + '_' + str(dt_currentData.month) + '_' + str(dt_currentData.day) + '_' + 'CMP_G3X.csv'\n",
    "# finalData.to_csv(writeFilename_archive, index=False)"
   ]
  }
 ],
 "metadata": {
  "kernelspec": {
   "display_name": "Python 3",
   "language": "python",
   "name": "python3"
  },
  "language_info": {
   "codemirror_mode": {
    "name": "ipython",
    "version": 3
   },
   "file_extension": ".py",
   "mimetype": "text/x-python",
   "name": "python",
   "nbconvert_exporter": "python",
   "pygments_lexer": "ipython3",
   "version": "3.6.0"
  }
 },
 "nbformat": 4,
 "nbformat_minor": 2
}
