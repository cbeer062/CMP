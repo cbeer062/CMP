{
 "cells": [
  {
   "cell_type": "code",
   "execution_count": 1,
   "metadata": {},
   "outputs": [],
   "source": [
    "# 1) dates should be formatted in excel to yyyy-MM-dd\n",
    "# 2) data input as excel format"
   ]
  },
  {
   "cell_type": "code",
   "execution_count": 2,
   "metadata": {},
   "outputs": [],
   "source": [
    "%reset -f"
   ]
  },
  {
   "cell_type": "code",
   "execution_count": 3,
   "metadata": {},
   "outputs": [],
   "source": [
    "import pandas as pd\n",
    "import numpy as np\n",
    "import os\n",
    "\n",
    "from datetime import datetime, timedelta"
   ]
  },
  {
   "cell_type": "code",
   "execution_count": 4,
   "metadata": {},
   "outputs": [],
   "source": [
    "filename = \"//usoil.local/Production/USV/Apps/PowerBI/US AutoForce/Sales Reports/CMP/Input/current_bsfs_barnn.xlsx\"\n",
    "x1 = pd.ExcelFile(filename) # check this out!"
   ]
  },
  {
   "cell_type": "code",
   "execution_count": 5,
   "metadata": {},
   "outputs": [],
   "source": [
    "# res = len(x1.sheet_names)\n",
    "sheetList = x1.sheet_names\n",
    "sheetList.sort()\n",
    "# sheetList"
   ]
  },
  {
   "cell_type": "code",
   "execution_count": 6,
   "metadata": {},
   "outputs": [],
   "source": [
    "df = pd.read_excel(filename,sheet_name='Current Qtr',header=0)\n",
    "df.columns = df.columns.str.replace(' ', '_')\n",
    "df.columns = df.columns.str.replace('-', '_')\n",
    "df.columns = df.columns.str.replace('#', 'num')\n",
    "df.columns = df.columns.str.replace('%', 'PER')"
   ]
  },
  {
   "cell_type": "code",
   "execution_count": 7,
   "metadata": {},
   "outputs": [],
   "source": [
    "filename2 = '//usoil.local/Production/USV/Apps/PowerBI/US AutoForce/Sales Reports/CMP/Incentive Requirments/BSFS_BARNN_Incentive.txt'\n",
    "df_tierMap = pd.read_csv(filename2, sep = '\\t')\n",
    "# df_tierMap"
   ]
  },
  {
   "cell_type": "code",
   "execution_count": 8,
   "metadata": {},
   "outputs": [],
   "source": [
    "df = df.assign(QTDsum=0,CurrentTier=0,CreateDate=0)\n",
    "\n",
    "df['QTDsum'] = df.MB_Prime + df.MB_2nd\n",
    "df.loc[df['QTDsum'] < 225, 'CurrentTier'] = 0\n",
    "df.loc[df['QTDsum'] >= 225, 'CurrentTier'] = 1"
   ]
  },
  {
   "cell_type": "code",
   "execution_count": 9,
   "metadata": {},
   "outputs": [],
   "source": [
    "tup_now = datetime.now().timetuple()\n",
    "currentYear = datetime.now().year"
   ]
  },
  {
   "cell_type": "code",
   "execution_count": 10,
   "metadata": {},
   "outputs": [],
   "source": [
    "ts_currentData = os.path.getctime(filename)\n",
    "dt_currentData = datetime.fromtimestamp(ts_currentData)\n",
    "tup_currentData = dt_currentData.timetuple()\n",
    "# print(tup_currentData)\n",
    "df.CreateDate = str(tup_currentData.tm_year) + '-' + str(tup_currentData.tm_mon) + '-' + str(tup_currentData.tm_mday)\n",
    "\n",
    "ts_incentive = os.path.getctime(filename2)\n",
    "dt_incentive = datetime.fromtimestamp(ts_incentive)\n",
    "# print(dt_currentData)"
   ]
  },
  {
   "cell_type": "code",
   "execution_count": 11,
   "metadata": {},
   "outputs": [
    {
     "name": "stderr",
     "output_type": "stream",
     "text": [
      "C:\\dev\\2019_04_29_Anaconda\\lib\\site-packages\\ipykernel_launcher.py:80: RuntimeWarning: invalid value encountered in greater\n"
     ]
    }
   ],
   "source": [
    "calculatedData = pd.DataFrame([])\n",
    "for ii in range(df.shape[0]):\n",
    "\n",
    "    singleCusty = df.iloc[[ii]]\n",
    "    singleCusty.reset_index(inplace=True)\n",
    "\n",
    "    if  tup_currentData.tm_year == currentYear:\n",
    "\n",
    "        if (tup_currentData.tm_mon == 1) | (tup_currentData.tm_mon == 2) | (tup_currentData.tm_mon == 3):\n",
    "            if ((tup_currentData.tm_year % 400 == 0) | (tup_currentData.tm_year % 4 == 0)) & (tup_currentData.tm_year % 100 != 0):\n",
    "                quarter = 1\n",
    "                daysINqtr = 91\n",
    "                print('Leap year')\n",
    "            else:\n",
    "                quarter = 1\n",
    "                daysINqtr = 90           \n",
    "        elif (tup_currentData.tm_mon == 4) | (tup_currentData.tm_mon == 5) | (tup_currentData.tm_mon == 6):\n",
    "            quarter = 2\n",
    "            daysINqtr = 91\n",
    "            subtractDays = 90          \n",
    "        elif (tup_currentData.tm_mon == 7) | (tup_currentData.tm_mon == 8) | (tup_currentData.tm_mon == 9):\n",
    "            quarter = 3\n",
    "            daysINqtr = 92\n",
    "            subtractDays = 90 + 91\n",
    "        else:\n",
    "            quarter = 4\n",
    "            daysINqtr = 92\n",
    "            subtractDays = 90 + 91 + 92\n",
    "        \n",
    "        numDays = tup_currentData.tm_yday - subtractDays # get number of days\n",
    "\n",
    "        estimatedTires = np.floor((singleCusty.QTDsum / (numDays / daysINqtr))).values\n",
    "\n",
    "        if   (estimatedTires >= (df_tierMap.iloc[1,4])) & (singleCusty.Percent_MB[0] >= 0.75):\n",
    "            tierType = 1\n",
    "        else:\n",
    "            tierType = 0\n",
    "        \n",
    "        if tierType < 1:\n",
    "            tierUP = tierType + 1\n",
    "        else:\n",
    "            tierUP = 1\n",
    "\n",
    "        if singleCusty.CurrentTier.values == 1:\n",
    "            currentBSdollars = df_tierMap.iloc[1,1] * singleCusty.BS_Prime\n",
    "            currentFSdollars = df_tierMap.iloc[1,2] * singleCusty.FS_Prime\n",
    "            currentFZdollars = df_tierMap.iloc[1,3] * singleCusty.FZ_Prime\n",
    "        else:\n",
    "            currentBSdollars = 0\n",
    "            currentFSdollars = 0\n",
    "            currentFZdollars = 0\n",
    "        Q1_current_rebate = currentBSdollars + currentFSdollars + currentFZdollars\n",
    "        \n",
    "        # floor to underestimate estimated tires\n",
    "        bridgeStone_est_tires = np.floor((singleCusty.BS_Prime / (numDays / daysINqtr)).values)\n",
    "        bridgeStone_est_tires_rebate = bridgeStone_est_tires * df_tierMap.iloc[tierType,1]\n",
    "        bridgeStone_prop = singleCusty.BS_Prime / singleCusty.QTDsum\n",
    "        # ceil to make sure the customer surpasses the minimal 1up tire threshold\n",
    "        bridgeStone_1up_tires = np.ceil((bridgeStone_prop * df_tierMap.iloc[tierUP,4]).values)\n",
    "        bridgeStone_1up_tires_rebate = bridgeStone_1up_tires * df_tierMap.iloc[tierUP,1]\n",
    "   \n",
    "        fireStone_est_tires = np.floor((singleCusty.FS_Prime / (numDays / daysINqtr)).values)\n",
    "        fireStone_est_tires_rebate = fireStone_est_tires * df_tierMap.iloc[tierType,2]\n",
    "        fireStone_prop = singleCusty.FS_Prime / singleCusty.QTDsum\n",
    "        fireStone_1up_tires = np.ceil((fireStone_prop * df_tierMap.iloc[tierUP,4]).values)\n",
    "        fireStone_1up_tires_rebate = fireStone_1up_tires * df_tierMap.iloc[tierUP,2]\n",
    "        \n",
    "        fuzion_est_tires = np.floor((singleCusty.FZ_Prime / (numDays / daysINqtr)).values)\n",
    "        fuzion_est_tires_rebate = fuzion_est_tires * df_tierMap.iloc[tierType,3]\n",
    "        fuzion_prop = singleCusty.FZ_Prime / singleCusty.QTDsum\n",
    "        fuzion_1up_tires = np.ceil((fuzion_prop * df_tierMap.iloc[tierUP,4]).values)\n",
    "        fuzion_1up_tires_rebate = fuzion_1up_tires * df_tierMap.iloc[tierUP,3]\n",
    "     \n",
    "        total_est_dollars = bridgeStone_est_tires_rebate + fireStone_est_tires_rebate + fuzion_est_tires_rebate\n",
    "        total_1up_dollars = bridgeStone_1up_tires_rebate + fireStone_1up_tires_rebate + fuzion_1up_tires_rebate\n",
    "        total_1up_tires = bridgeStone_1up_tires + fireStone_1up_tires\n",
    "        MB_est_tires = bridgeStone_est_tires + fireStone_est_tires\n",
    "        Q1_MB_total = singleCusty.MB_Prime + singleCusty.MB_2nd \n",
    "        \n",
    "        if estimatedTires > total_1up_tires:\n",
    "            bridgeStone_1up_tires = bridgeStone_est_tires\n",
    "            fireStone_1up_tires = fireStone_est_tires\n",
    "            fuzion_1up_tires = fuzion_est_tires\n",
    "            total_1up_tires = estimatedTires\n",
    "            \n",
    "            bridgeStone_1up_tires_rebate = bridgeStone_est_tires_rebate\n",
    "            fireStone_1up_tires_rebate = fireStone_est_tires_rebate\n",
    "            fuzion_1up_tires_rebate = fuzion_est_tires_rebate\n",
    "            total_1up_dollars = total_est_dollars\n",
    "\n",
    "        range_dollars_ll = ((total_1up_tires * df_tierMap.iloc[tierUP,2]))\n",
    "        range_dollars_ul = ((total_1up_tires * df_tierMap.iloc[tierUP,1]))\n",
    "        \n",
    "        tempData = pd.DataFrame(\n",
    "            {'estimated_tier':tierType, 'currentBSdollars':currentBSdollars, 'currentFSdollars':currentFSdollars, 'currentFZdollars':currentFZdollars, 'current_tires':Q1_MB_total, 'current_total_rebate':Q1_current_rebate,\n",
    "             'bridgeStone_est_tires':bridgeStone_est_tires, 'fireStone_est_tires':fireStone_est_tires, 'fuzion_est_tires':fuzion_est_tires, 'current_est_tires':MB_est_tires,\n",
    "             'bridgeStone_est_rebate':bridgeStone_est_tires_rebate, 'fireStone_est_rebate':fireStone_est_tires_rebate, 'fuzion_est_rebate':fuzion_est_tires_rebate, 'total_est_rebate':total_est_dollars,\n",
    "             'Up_tier':tierUP,\n",
    "             'bridgeStone_up_tires':bridgeStone_1up_tires, 'fireStone_up_tires':fireStone_1up_tires, 'fuzion_up_tires':fuzion_1up_tires,\n",
    "             'bridgeStone_up_rebate':bridgeStone_1up_tires_rebate, 'fireStone_up_rebate':fireStone_1up_tires_rebate, 'fuzion_up_rebate':fuzion_1up_tires_rebate, 'total_up_rebate':total_1up_dollars,\n",
    "             'range_lower':range_dollars_ll, 'range_upper':range_dollars_ul,'period': quarter, 'grain': 'Quarter'})\n",
    "        calculatedData = calculatedData.append(tempData)\n",
    "    else:\n",
    "        range_dollars_ll = (df_tierMap.iloc[1,3] * df_tierMap.iloc[1,4])\n",
    "        range_dollars_ul = (df_tierMap.iloc[1,1] * df_tierMap.iloc[1,4]) \n",
    "        tempData = pd.DataFrame(\n",
    "            {'estimated_tier':0,  'currentBSdollars':0, 'currentFSdollars':0, 'currentFZdollars':0, 'current_tires':0, 'current_total_rebate':0,\n",
    "             'bridgeStone_est_tires':0, 'fireStone_est_tires':0, 'fuzion_est_tires':0, 'current_est_tires':0,\n",
    "             'bridgeStone_est_rebate':0, 'fireStone_est_rebate':0, 'fuzion_est_rebate':0, 'total_est_rebate':0,\n",
    "             'Up_tier':1,\n",
    "             'bridgeStone_up_tires':0, 'fireStone_up_tires':0, 'fuzion_up_tires':0,\n",
    "             'bridgeStone_up_rebate':0, 'fireStone_up_rebate':0, 'fuzion_up_rebate':0, 'total_up_rebate':0,\n",
    "             'range_lower':[range_dollars_ll], 'range_upper':[range_dollars_ul],'period': quarter, 'grain': 'Quarter'})\n",
    "        calculatedData = calculatedData.append(tempData)\n",
    "###########################################################################################################################        \n",
    "calculatedData = calculatedData.reset_index(drop=True)\n",
    "finalData = pd.concat([calculatedData,df], axis=1)"
   ]
  },
  {
   "cell_type": "code",
   "execution_count": 12,
   "metadata": {},
   "outputs": [],
   "source": [
    "finalData = finalData.replace([np.inf, -np.inf], np.nan).fillna(0)\n",
    "# finalData.head()"
   ]
  },
  {
   "cell_type": "code",
   "execution_count": 13,
   "metadata": {},
   "outputs": [],
   "source": [
    "path = '//usoil.local/Production/USV/Apps/PowerBI/US AutoForce/Sales Reports/CMP/python_csv_output/'\n",
    "writeFilename = path + 'CMP_BSFS_BARNN.csv'\n",
    "finalData.to_csv(writeFilename, index=False)\n",
    "writeFilename_archive = path + 'csv_archive/' + str(tup_now.tm_year) + '_' + str(tup_now.tm_mon).zfill(2) \\\n",
    "                        + '_' + str(tup_now.tm_mday).zfill(2) + '_' + 'CMP_BSFS_BARNN_' \\\n",
    "                        + str(tup_now.tm_hour).zfill(2) + str(tup_now.tm_min).zfill(2) + str(tup_now.tm_sec).zfill(2) \\\n",
    "                        + '.csv'\n",
    "finalData.to_csv(writeFilename_archive, index=False)"
   ]
  },
  {
   "cell_type": "code",
   "execution_count": null,
   "metadata": {},
   "outputs": [],
   "source": []
  }
 ],
 "metadata": {
  "kernelspec": {
   "display_name": "Python 3",
   "language": "python",
   "name": "python3"
  },
  "language_info": {
   "codemirror_mode": {
    "name": "ipython",
    "version": 3
   },
   "file_extension": ".py",
   "mimetype": "text/x-python",
   "name": "python",
   "nbconvert_exporter": "python",
   "pygments_lexer": "ipython3",
   "version": "3.6.7"
  }
 },
 "nbformat": 4,
 "nbformat_minor": 2
}
