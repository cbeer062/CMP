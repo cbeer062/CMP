{
 "cells": [
  {
   "cell_type": "code",
   "execution_count": null,
   "metadata": {
    "collapsed": true
   },
   "outputs": [],
   "source": [
    "import pandas as pd\n",
    "import numpy as np\n",
    "import os\n",
    "\n",
    "from datetime import datetime"
   ]
  },
  {
   "cell_type": "code",
   "execution_count": null,
   "metadata": {},
   "outputs": [],
   "source": [
    "filename = '//usoil.local/Production/USV/Apps/PowerBI/US AutoForce/Sales Reports/CMP/Current_G3x_con.csv'\n",
    "df = pd.read_csv(filename, sep = ',')\n",
    "df.columns = df.columns.str.replace(' ', '_')\n",
    "df.columns = df.columns.str.replace('#', 'num')\n",
    "\n",
    "# df['Net_Shipments'] = df['Net_Shipments'].str.replace(',','')\n",
    "# df['Tier_1_Objective'] = df['Tier_1_Objective'].str.replace(',','')\n",
    "# df['Tier_2_Objective'] = df['Tier_2_Objective'].str.replace(',','')\n",
    "# df['Tier_3_Objective'] = df['Tier_3_Objective'].str.replace(',','')\n",
    "\n",
    "filename2 = '//usoil.local/Production/USV/Apps/PowerBI/US AutoForce/Sales Reports/CMP/Incentive Requirments/GDY_AVI_TSN_Incentive.txt'\n",
    "df_tierMap_TSN = pd.read_csv(filename2, sep = '\\t')\n",
    "df_tierMap_TSN.columns = df_tierMap_TSN.columns.str.replace(' ', '_')\n",
    "\n",
    "filename3 = '//usoil.local/Production/USV/Apps/PowerBI/US AutoForce/Sales Reports/CMP/Incentive Requirments/GDY_AVI_NonTSN_Incentive.txt'\n",
    "df_tierMap_nonTSN = pd.read_csv(filename3, sep = '\\t')\n",
    "df_tierMap_nonTSN.columns = df_tierMap_nonTSN.columns.str.replace(' ', '_')\n",
    "\n",
    "df.shape"
   ]
  },
  {
   "cell_type": "code",
   "execution_count": null,
   "metadata": {
    "collapsed": true
   },
   "outputs": [],
   "source": [
    "# df.columns.to_series(index=range(df.shape[1]))"
   ]
  },
  {
   "cell_type": "code",
   "execution_count": null,
   "metadata": {
    "collapsed": true
   },
   "outputs": [],
   "source": [
    "currentYear = datetime.now().year"
   ]
  },
  {
   "cell_type": "code",
   "execution_count": null,
   "metadata": {
    "collapsed": true
   },
   "outputs": [],
   "source": [
    "tup_now = datetime.now().timetuple()"
   ]
  },
  {
   "cell_type": "code",
   "execution_count": null,
   "metadata": {
    "collapsed": true
   },
   "outputs": [],
   "source": [
    "ts_currentData = os.path.getctime(filename)\n",
    "dt_currentData = datetime.fromtimestamp(ts_currentData)\n",
    "# print(dt_currentData)\n",
    "ts_incentive = os.path.getctime(filename2)\n",
    "dt_incentive = datetime.fromtimestamp(ts_incentive)\n",
    "# print(dt_incentive)"
   ]
  },
  {
   "cell_type": "code",
   "execution_count": null,
   "metadata": {
    "scrolled": false
   },
   "outputs": [],
   "source": [
    "calculatedData = pd.DataFrame([])\n",
    "for ii in range(df.shape[0]):\n",
    "\n",
    "    singleCusty = df.iloc[[ii]]\n",
    "    singleCusty.reset_index(inplace=True)\n",
    "\n",
    "    singleCusty_select = singleCusty[\n",
    "        ['G3X_CO_Name','TSN','Net_Shipments_YTD','num_Locations']]\n",
    "\n",
    "#     tt = pd.to_datetime(singleCusty['Last_Transaction'])[0].timetuple()\n",
    "    excel_date = singleCusty.Last_Transaction\n",
    "    \n",
    "    date_lt = datetime.fromordinal(datetime(1900, 1, 1).toordinal() + excel_date - 2)\n",
    "    tt = date_lt.timetuple()\n",
    "        \n",
    "    if  tt.tm_year == currentYear:\n",
    "\n",
    "        if (tt.tm_mon == 1) | (tt.tm_mon == 2) | (tt.tm_mon == 3):\n",
    "            if ((tt.tm_year % 400 == 0) | (tt.tm_year % 4 == 0)) & (tt.tm_year % 100 != 0):\n",
    "                daysINyear = 366\n",
    "                print('Leap year')\n",
    "            else:\n",
    "                daysINyear = 365           \n",
    "        \n",
    "        numDays = tt.tm_yday # get number of days\n",
    "\n",
    "        estimatedTires = np.floor(singleCusty_select.Net_Shipments_YTD.astype(int)/(numDays/daysINyear)).values\n",
    "        numLocations = singleCusty.num_Locations.values\n",
    "#         netShip = singleCusty_select.Net_Shipments.values.astype(int)\n",
    "#         netGYc = singleCusty_select.avi_Core_Net_Shipments.values.astype(int)\n",
    "#         netGYm = singleCusty_select.avi_Mid_Net_Shipments.values.astype(int)\n",
    "#         netKelly = singleCusty_select.Kelly_Net_Shipments.values.astype(int)\n",
    "\n",
    "        # Check if customer is aligned\n",
    "        if singleCusty_select.TSN.values == 'N':\n",
    "            df_tierMap = df_tierMap_nonTSN\n",
    "            if   (estimatedTires >= (df_tierMap.iloc[0,2] * numLocations)) & (estimatedTires <= (df_tierMap.iloc[0,3] * numLocations)):\n",
    "                estTier = 0\n",
    "            else:\n",
    "                estTier = 1\n",
    "            if estTier < 1:\n",
    "                tierUP = estTier + 1\n",
    "            else:\n",
    "                tierUP = 1\n",
    "        else:\n",
    "            df_tierMap = df_tierMap_TSN\n",
    "            if   (estimatedTires >= (df_tierMap.iloc[0,2] * numLocations)) & (estimatedTires <= (df_tierMap.iloc[0,3] * numLocations)):\n",
    "                estTier = 0\n",
    "            elif (estimatedTires >= (df_tierMap.iloc[1,2] * numLocations)) & (estimatedTires <= (df_tierMap.iloc[1,3] * numLocations)):\n",
    "                estTier = 1\n",
    "            else:\n",
    "                estTier = 2\n",
    "            if estTier < 2:\n",
    "                tierUP = estTier + 1\n",
    "            else:\n",
    "                tierUP = 2\n",
    "                \n",
    "        # floor to underestimate estimated tires\n",
    "        avi_est_tires_rebate = estimatedTires * df_tierMap.iloc[estTier,1]\n",
    "        avi_1up_tires = df_tierMap.iloc[tierUP,2]\n",
    "        avi_1up_tires_rebate = avi_1up_tires * df_tierMap.iloc[tierUP,1]\n",
    "\n",
    "        if avi_est_tires_rebate >= avi_1up_tires_rebate*numLocations:\n",
    "            avi_1up_tires = estimatedTires\n",
    "            avi_1up_tires_rebate = avi_est_tires_rebate\n",
    "\n",
    "        range_dollars_ll = ((avi_1up_tires*df_tierMap.iloc[0,1]))#.values\n",
    "        range_dollars_ul = ((avi_1up_tires*df_tierMap.iloc[tierUP,1]))#.values\n",
    "        \n",
    "###########################################################################################################################        \n",
    "#         print(singleCusty_select)\n",
    "# ###########################################################################################################################     \n",
    "#         print('\\nEstimated Tier:', [estTier])        \n",
    "#         print('\\nEstimated Tires ~ avi:', estimatedTires)        \n",
    "#         print('\\nEstimated Rebate ~ avi:',avi_est_tires_rebate)\n",
    "#         print('\\n-----------------------------------------------------------------------------------------------------------------------\\n')\n",
    "# ###########################################################################################################################\n",
    "#         print('Estimated 1up Tier:', [tierUP])        \n",
    "#         print('\\n1up Tires ~ avi:', avi_1up_tires*numLocations)        \n",
    "#         print('\\n1up Dollars ~ avi:',avi_1up_tires_rebate*numLocations)\n",
    "#         print('\\n-----------------------------------------------------------------------------------------------------------------------\\n')\n",
    "# ###########################################################################################################################        \n",
    "#         print('Range_ll:',range_dollars_ll)\n",
    "#         print('Range_ul:',range_dollars_ul*numLocations, '\\n')\n",
    "# ###########################################################################################################################\n",
    "#         print(tt, '\\n' 'indexNumber:', ii, '\\n')\n",
    "###########################################################################################################################\n",
    "\n",
    "        tempData = pd.DataFrame(\n",
    "            {'Est_tier':estTier,\n",
    "             'estimated_tires':estimatedTires, 'estimated_rebate':avi_est_tires_rebate,\n",
    "             'Up_tier':tierUP,\n",
    "             'avi_up_tires':avi_1up_tires*numLocations, 'avi_up_rebate':avi_1up_tires_rebate*numLocations,\n",
    "             'Range_lower':range_dollars_ll, 'Range_upper':range_dollars_ul*numLocations,'Grain': 'Yearly'})\n",
    "        calculatedData = calculatedData.append(tempData)\n",
    "    else:\n",
    "#         print('\\nJUNK:', tt,'\\n', 'indexNumber:', ii)\n",
    "        tempData = pd.DataFrame(\n",
    "            {'Est_tier':0,\n",
    "             'estimated_tires':0, 'estimated_rebate':0,\n",
    "             'Up_tier':1,\n",
    "             'avi_up_tires':0*numLocations, 'avi_up_rebate':0*numLocations,\n",
    "             'Range_lower':range_dollars_ll, 'Range_upper':range_dollars_ul,'Grain': 'Yearly'})\n",
    "        calculatedData = calculatedData.append(tempData)\n",
    "#         print(ii)\n",
    "###########################################################################################################################        \n",
    "calculatedData = calculatedData.reset_index(drop=True)\n",
    "finalData = pd.concat([calculatedData,df], axis=1)"
   ]
  },
  {
   "cell_type": "code",
   "execution_count": null,
   "metadata": {
    "collapsed": true
   },
   "outputs": [],
   "source": [
    "finalData = finalData.replace([np.inf, -np.inf], np.nan).fillna(0)\n",
    "# finalData.head()"
   ]
  },
  {
   "cell_type": "code",
   "execution_count": null,
   "metadata": {
    "collapsed": true
   },
   "outputs": [],
   "source": [
    "path = '//usoil.local/Production/USV/Apps/PowerBI/US AutoForce/Sales Reports/CMP/python_csv_output/'\n",
    "writeFilename = path + 'CMP_G3X_AVI.csv'\n",
    "finalData.to_csv(writeFilename, index=False)\n",
    "writeFilename_archive = path + 'csv_archive/' + str(tup_now.tm_year) + '_' + str(tup_now.tm_mon).zfill(2) \\\n",
    "                        + '_' + str(tup_now.tm_mday).zfill(2) + '_' + 'CMP_G3X_AVI_' \\\n",
    "                        + str(tup_now.tm_hour).zfill(2) + str(tup_now.tm_min).zfill(2) + str(tup_now.tm_sec).zfill(2) \\\n",
    "                        + '.csv'\n",
    "finalData.to_csv(writeFilename_archive, index=False)"
   ]
  },
  {
   "cell_type": "code",
   "execution_count": null,
   "metadata": {
    "collapsed": true
   },
   "outputs": [],
   "source": []
  },
  {
   "cell_type": "code",
   "execution_count": null,
   "metadata": {
    "collapsed": true
   },
   "outputs": [],
   "source": [
    "# path = '//usoil.local/Production/USV/Apps/PowerBI/US AutoForce/Sales Reports/CMP/python_csv_output/'\n",
    "# writeFilename = path + 'cmp_G3X.csv'\n",
    "# finalData.to_csv(writeFilename, index=False)\n",
    "# writeFilename_archive = path + 'csv_archive/' + str(dt_currentData.year) + '_' + str(dt_currentData.month) + '_' + str(dt_currentData.day) + '_' + 'CMP_G3X.csv'\n",
    "# finalData.to_csv(writeFilename_archive, index=False)"
   ]
  }
 ],
 "metadata": {
  "kernelspec": {
   "display_name": "Python 3",
   "language": "python",
   "name": "python3"
  },
  "language_info": {
   "codemirror_mode": {
    "name": "ipython",
    "version": 3
   },
   "file_extension": ".py",
   "mimetype": "text/x-python",
   "name": "python",
   "nbconvert_exporter": "python",
   "pygments_lexer": "ipython3",
   "version": "3.5.5"
  }
 },
 "nbformat": 4,
 "nbformat_minor": 2
}
