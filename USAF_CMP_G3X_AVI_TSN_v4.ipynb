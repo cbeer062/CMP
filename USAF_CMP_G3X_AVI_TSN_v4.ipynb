{
 "cells": [
  {
   "cell_type": "code",
   "execution_count": null,
   "metadata": {},
   "outputs": [],
   "source": [
    "import pandas as pd\n",
    "import numpy as np\n",
    "import os\n",
    "\n",
    "from datetime import datetime"
   ]
  },
  {
   "cell_type": "code",
   "execution_count": null,
   "metadata": {},
   "outputs": [],
   "source": [
    "%reset -f"
   ]
  },
  {
   "cell_type": "code",
   "execution_count": null,
   "metadata": {},
   "outputs": [],
   "source": [
    "filename = '//usoil.local/Production/USV/Apps/PowerBI/US AutoForce/Sales Reports/CMP/Input/current_g3x_con.xlsx'\n",
    "x1 = pd.ExcelFile(filename) # check this out!"
   ]
  },
  {
   "cell_type": "code",
   "execution_count": null,
   "metadata": {},
   "outputs": [],
   "source": [
    "# res = len(x1.sheet_names)\n",
    "sheetList = x1.sheet_names\n",
    "sheetList.sort()\n",
    "sheetList"
   ]
  },
  {
   "cell_type": "code",
   "execution_count": null,
   "metadata": {},
   "outputs": [],
   "source": [
    "filename2 = '//usoil.local/Production/USV/Apps/PowerBI/US AutoForce/Sales Reports/CMP/Incentive Requirments/GDY_AVI_TSN_Incentive.txt'\n",
    "df_tierMap_TSN = pd.read_csv(filename2, sep = '\\t')\n",
    "df_tierMap_TSN.columns = df_tierMap_TSN.columns.str.replace(' ', '_')\n",
    "\n",
    "filename3 = '//usoil.local/Production/USV/Apps/PowerBI/US AutoForce/Sales Reports/CMP/Incentive Requirments/GDY_AVI_NonTSN_Incentive.txt'\n",
    "df_tierMap_nonTSN = pd.read_csv(filename3, sep = '\\t')\n",
    "df_tierMap_nonTSN.columns = df_tierMap_nonTSN.columns.str.replace(' ', '_')\n",
    "\n",
    "df.shape"
   ]
  },
  {
   "cell_type": "code",
   "execution_count": null,
   "metadata": {},
   "outputs": [],
   "source": [
    "for sheet in sheetList:\n",
    "    if '1st' in sheet and 'Qtr' in sheet:\n",
    "        print('Q1 exist')\n",
    "        df1 = pd.read_excel(filename,sheet_name=sheet,header=1)\n",
    "        \n",
    "        df1.columns = df1.columns.str.replace(' ', '_')\n",
    "        df1.columns = df1.columns.str.replace('#', 'num')\n",
    "        \n",
    "        df_current = df1\n",
    "        \n",
    "    elif '2nd' in sheet and 'Qtr' in sheet:\n",
    "        print('Q2 exist')\n",
    "        df2 = pd.read_excel(filename,sheet_name=sheet,header=1)\n",
    "        df2.columns = df2.columns.str.replace(' ', '_')\n",
    "        df2.columns = df2.columns.str.replace('#', 'num')\n",
    "        \n",
    "        df_historic1 = df1.iloc[:,[1,14,15,16,17,18,19,20]]\n",
    "        df_historic1 = df_historic1.add_suffix('_Q1')\n",
    "        \n",
    "        df_current = df2\n",
    "        \n",
    "    elif '3rd' in sheet and 'Qtr' in sheet:\n",
    "        print('Q3 exist')\n",
    "        df3 = pd.read_excel(filename,sheet_name=sheet,header=1)\n",
    "        df3.columns = df3.columns.str.replace(' ', '_')\n",
    "        df3.columns = df3.columns.str.replace('#', 'num')\n",
    "        \n",
    "        df_historic2 = df2.iloc[:,[1,14,15,16,17,18,19,20]]\n",
    "        df_historic2 = df_historic2.add_suffix('_Q2')\n",
    "        \n",
    "        df_current = df3\n",
    "        \n",
    "    elif '4th' in sheet and 'Qtr' in sheet:\n",
    "        print('Q4 exist')\n",
    "        df4 = pd.read_excel(filename,sheet_name=sheet,header=1)\n",
    "        df4.columns = df4.columns.str.replace(' ', '_')\n",
    "        df4.columns = df4.columns.str.replace('#', 'num')\n",
    "            \n",
    "        df_historic3 = df3.iloc[:,[1,14,15,16,17,18,19,20]]\n",
    "        df_historic3 = df_historic3.add_suffix('_Q3')\n",
    "        \n",
    "        df_current = df4"
   ]
  },
  {
   "cell_type": "code",
   "execution_count": null,
   "metadata": {},
   "outputs": [],
   "source": [
    "# df_current.columns.to_series(index=range(df_current.shape[1]))"
   ]
  },
  {
   "cell_type": "code",
   "execution_count": null,
   "metadata": {},
   "outputs": [],
   "source": [
    "currentYear = datetime.now().year"
   ]
  },
  {
   "cell_type": "code",
   "execution_count": null,
   "metadata": {},
   "outputs": [],
   "source": [
    "tup_now = datetime.now().timetuple()"
   ]
  },
  {
   "cell_type": "code",
   "execution_count": null,
   "metadata": {},
   "outputs": [],
   "source": [
    "ts_currentData = os.path.getctime(filename)\n",
    "dt_currentData = datetime.fromtimestamp(ts_currentData)\n",
    "# print(dt_currentData)\n",
    "ts_incentive = os.path.getctime(filename2)\n",
    "dt_incentive = datetime.fromtimestamp(ts_incentive)\n",
    "# print(dt_incentive)"
   ]
  },
  {
   "cell_type": "code",
   "execution_count": null,
   "metadata": {},
   "outputs": [],
   "source": [
    "calculatedData = pd.DataFrame([])\n",
    "for ii in range(df_current.shape[0]):\n",
    "\n",
    "    singleCusty = df_current.iloc[[ii]]\n",
    "    singleCusty.reset_index(inplace=True)\n",
    "\n",
    "    singleCusty_select = singleCusty[\n",
    "        ['G3X_CO_Name','TSN','Net_Shipments_YTD','num_Locations']]\n",
    "\n",
    "    tt = pd.to_datetime(singleCusty['Last_Transaction'])[0].timetuple()\n",
    "#     excel_date = singleCusty.Last_Transaction\n",
    "    \n",
    "#     date_lt = datetime.fromordinal(datetime(1900, 1, 1).toordinal() + excel_date - 2)\n",
    "#     tt = date_lt.timetuple()\n",
    "        \n",
    "    if  tt.tm_year == currentYear:\n",
    "\n",
    "        if ((tt.tm_year % 400 == 0) | (tt.tm_year % 4 == 0)) & (tt.tm_year % 100 != 0):\n",
    "            daysINyear = 366\n",
    "            print('Leap year')\n",
    "        else:\n",
    "            daysINyear = 365     \n",
    "\n",
    "        numDays = tt.tm_yday # get number of days\n",
    "\n",
    "        estimatedTires = np.floor(singleCusty_select.Net_Shipments_YTD.astype(int)/(numDays/daysINyear)).values\n",
    "        numLocations = singleCusty.num_Locations.values\n",
    "#         netShip = singleCusty_select.Net_Shipments.values.astype(int)\n",
    "#         netGYc = singleCusty_select.avi_Core_Net_Shipments.values.astype(int)\n",
    "#         netGYm = singleCusty_select.avi_Mid_Net_Shipments.values.astype(int)\n",
    "#         netKelly = singleCusty_select.Kelly_Net_Shipments.values.astype(int)\n",
    "\n",
    "        # Check if customer is aligned\n",
    "        if singleCusty_select.TSN.values == 'N':\n",
    "            df_tierMap = df_tierMap_nonTSN\n",
    "            if   (estimatedTires >= (df_tierMap.iloc[0,2] * numLocations)) & (estimatedTires <= (df_tierMap.iloc[0,3] * numLocations)):\n",
    "                estTier = 0\n",
    "            else:\n",
    "                estTier = 1\n",
    "            if estTier < 1:\n",
    "                tierUP = estTier + 1\n",
    "            else:\n",
    "                tierUP = 1\n",
    "        else:\n",
    "            df_tierMap = df_tierMap_TSN\n",
    "            if   (estimatedTires >= (df_tierMap.iloc[0,2] * numLocations)) & (estimatedTires <= (df_tierMap.iloc[0,3] * numLocations)):\n",
    "                estTier = 0\n",
    "            elif (estimatedTires >= (df_tierMap.iloc[1,2] * numLocations)) & (estimatedTires <= (df_tierMap.iloc[1,3] * numLocations)):\n",
    "                estTier = 1\n",
    "            else:\n",
    "                estTier = 2\n",
    "            if estTier < 2:\n",
    "                tierUP = estTier + 1\n",
    "            else:\n",
    "                tierUP = 2\n",
    "                \n",
    "        # floor to underestimate estimated tires\n",
    "        avi_est_tires_rebate = estimatedTires * df_tierMap.iloc[estTier,1]\n",
    "        avi_1up_tires = df_tierMap.iloc[tierUP,2]\n",
    "        avi_1up_tires_rebate = avi_1up_tires * df_tierMap.iloc[tierUP,1]\n",
    "\n",
    "        if avi_est_tires_rebate >= avi_1up_tires_rebate*numLocations:\n",
    "            avi_1up_tires = estimatedTires\n",
    "            avi_1up_tires_rebate = avi_est_tires_rebate\n",
    "\n",
    "        range_dollars_ll = ((avi_1up_tires*df_tierMap.iloc[0,1]))#.values\n",
    "        range_dollars_ul = ((avi_1up_tires*df_tierMap.iloc[tierUP,1]))#.values\n",
    "        \n",
    "###########################################################################################################################        \n",
    "#         print(singleCusty_select)\n",
    "# ###########################################################################################################################     \n",
    "#         print('\\nEstimated Tier:', [estTier])        \n",
    "#         print('\\nEstimated Tires ~ avi:', estimatedTires)        \n",
    "#         print('\\nEstimated Rebate ~ avi:',avi_est_tires_rebate)\n",
    "#         print('\\n-----------------------------------------------------------------------------------------------------------------------\\n')\n",
    "# ###########################################################################################################################\n",
    "#         print('Estimated 1up Tier:', [tierUP])        \n",
    "#         print('\\n1up Tires ~ avi:', avi_1up_tires*numLocations)        \n",
    "#         print('\\n1up Dollars ~ avi:',avi_1up_tires_rebate*numLocations)\n",
    "#         print('\\n-----------------------------------------------------------------------------------------------------------------------\\n')\n",
    "# ###########################################################################################################################        \n",
    "#         print('Range_ll:',range_dollars_ll)\n",
    "#         print('Range_ul:',range_dollars_ul*numLocations, '\\n')\n",
    "# ###########################################################################################################################\n",
    "#         print(tt, '\\n' 'indexNumber:', ii, '\\n')\n",
    "###########################################################################################################################\n",
    "\n",
    "        tempData = pd.DataFrame(\n",
    "            {'estimated_tier':estTier,\n",
    "             'current_est_tires':estimatedTires, 'total_est_rebate':avi_est_tires_rebate,\n",
    "             'Up_tier':tierUP,\n",
    "             'avi_up_tires':avi_1up_tires*numLocations, 'avi_up_rebate':avi_1up_tires_rebate*numLocations,\n",
    "             'range_lower':range_dollars_ll, 'range_upper':range_dollars_ul*numLocations,'grain': 'Annual'})\n",
    "        calculatedData = calculatedData.append(tempData)\n",
    "    else:\n",
    "#         print('\\nJUNK:', tt,'\\n', 'indexNumber:', ii)\n",
    "        tempData = pd.DataFrame(\n",
    "            {'estimated_tier':0,\n",
    "             'current_est_tires':0, 'total_est_rebate':0,\n",
    "             'Up_tier':1,\n",
    "             'avi_up_tires':0*numLocations, 'avi_up_rebate':0*numLocations,\n",
    "             'range_lower':range_dollars_ll, 'range_upper':range_dollars_ul,'grain': 'Annual'})\n",
    "        calculatedData = calculatedData.append(tempData)\n",
    "#         print(ii)\n",
    "###########################################################################################################################        \n",
    "calculatedData = calculatedData.reset_index(drop=True)\n",
    "finalData = pd.concat([calculatedData,df_current], axis=1)"
   ]
  },
  {
   "cell_type": "code",
   "execution_count": null,
   "metadata": {},
   "outputs": [],
   "source": [
    "finalData = finalData.replace([np.inf, -np.inf], np.nan).fillna(0)\n",
    "# finalData.head()"
   ]
  },
  {
   "cell_type": "code",
   "execution_count": null,
   "metadata": {},
   "outputs": [],
   "source": [
    "path = '//usoil.local/Production/USV/Apps/PowerBI/US AutoForce/Sales Reports/CMP/python_csv_output/'\n",
    "writeFilename = path + 'CMP_G3X_AVI.csv'\n",
    "finalData.to_csv(writeFilename, index=False)\n",
    "writeFilename_archive = path + 'csv_archive/' + str(tup_now.tm_year) + '_' + str(tup_now.tm_mon).zfill(2) \\\n",
    "                        + '_' + str(tup_now.tm_mday).zfill(2) + '_' + 'CMP_G3X_AVI_' \\\n",
    "                        + str(tup_now.tm_hour).zfill(2) + str(tup_now.tm_min).zfill(2) + str(tup_now.tm_sec).zfill(2) \\\n",
    "                        + '.csv'\n",
    "finalData.to_csv(writeFilename_archive, index=False)"
   ]
  },
  {
   "cell_type": "code",
   "execution_count": null,
   "metadata": {},
   "outputs": [],
   "source": []
  },
  {
   "cell_type": "code",
   "execution_count": null,
   "metadata": {},
   "outputs": [],
   "source": [
    "# path = '//usoil.local/Production/USV/Apps/PowerBI/US AutoForce/Sales Reports/CMP/python_csv_output/'\n",
    "# writeFilename = path + 'cmp_G3X.csv'\n",
    "# finalData.to_csv(writeFilename, index=False)\n",
    "# writeFilename_archive = path + 'csv_archive/' + str(dt_currentData.year) + '_' + str(dt_currentData.month) + '_' + str(dt_currentData.day) + '_' + 'CMP_G3X.csv'\n",
    "# finalData.to_csv(writeFilename_archive, index=False)"
   ]
  }
 ],
 "metadata": {
  "kernelspec": {
   "display_name": "Python 3",
   "language": "python",
   "name": "python3"
  },
  "language_info": {
   "codemirror_mode": {
    "name": "ipython",
    "version": 3
   },
   "file_extension": ".py",
   "mimetype": "text/x-python",
   "name": "python",
   "nbconvert_exporter": "python",
   "pygments_lexer": "ipython3",
   "version": "3.6.7"
  }
 },
 "nbformat": 4,
 "nbformat_minor": 2
}
